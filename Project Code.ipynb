{
  "cells": [
    {
      "cell_type": "code",
      "execution_count": null,
      "metadata": {
        "id": "rah9jf2CZ6MN"
      },
      "outputs": [],
      "source": [
        "import pandas as pd\n",
        "import glob\n",
        "from statsmodels.graphics.gofplots import qqplot\n",
        "import matplotlib.pyplot as plt\n",
        "import seaborn as sns\n",
        "import scipy.stats as stats\n",
        "from sklearn.feature_selection import SelectKBest, f_classif\n",
        "from sklearn.model_selection import train_test_split\n",
        "from sklearn.ensemble import RandomForestClassifier\n",
        "from sklearn.metrics import accuracy_score, balanced_accuracy_score, confusion_matrix\n",
        "from scipy.stats import zscore\n"
      ]
    },
    {
      "cell_type": "code",
      "execution_count": null,
      "metadata": {
        "id": "TADmj3YvZ6MP"
      },
      "outputs": [],
      "source": [
        "\n",
        "# Define the path to the directory containing your CSV files\n",
        "directory_path = './features_train/*.csv'  # Ensure this is the directory where your files are stored\n",
        "test_directory_path = './features_test/*.csv'\n"
      ]
    },
    {
      "cell_type": "code",
      "execution_count": null,
      "metadata": {
        "id": "KAhSR2yAZ6MP"
      },
      "outputs": [],
      "source": [
        "# Use glob to get a list of csv file paths\n",
        "csv_files = glob.glob(directory_path)\n",
        "test_csv_files = glob.glob(test_directory_path)\n"
      ]
    },
    {
      "cell_type": "code",
      "execution_count": null,
      "metadata": {
        "id": "d2L2Xhf_Z6MP"
      },
      "outputs": [],
      "source": [
        "\n",
        "# Initialize an empty DataFrame to combine all participant features\n",
        "all_features_df = pd.DataFrame()\n",
        "test_features_df = pd.DataFrame()"
      ]
    },
    {
      "cell_type": "markdown",
      "metadata": {
        "id": "SUst2HPJZ6MQ"
      },
      "source": [
        "## Reading Train csv files"
      ]
    },
    {
      "cell_type": "code",
      "execution_count": null,
      "metadata": {
        "id": "DndFmHZ2wP0R"
      },
      "outputs": [],
      "source": [
        "\n",
        "\n",
        "# Loop through the file paths and read each file\n",
        "for file_path in csv_files:\n",
        "    participant_features = pd.read_csv(file_path, header=None)\n",
        "\n",
        "    # Extract participant ID from the filename, assuming it's formatted as 'spk_x.csv'\n",
        "    participant_id = int(file_path.split('_')[-1].split('.')[0])\n",
        "\n",
        "    participant_features['participant_id'] = participant_id\n",
        "\n",
        "    # Append to the combined DataFrame\n",
        "    all_features_df = pd.concat([ all_features_df , participant_features], ignore_index=True)\n",
        "\n"
      ]
    },
    {
      "cell_type": "code",
      "execution_count": null,
      "metadata": {
        "id": "_94FsUpwZ6MR"
      },
      "outputs": [],
      "source": []
    },
    {
      "cell_type": "markdown",
      "metadata": {
        "id": "mQi7QOjtZ6MR"
      },
      "source": [
        "## Reading Test CSV Files"
      ]
    },
    {
      "cell_type": "code",
      "execution_count": null,
      "metadata": {
        "id": "eo6ZPJhPZ6MR"
      },
      "outputs": [],
      "source": [
        "\n",
        "\n",
        "# Loop through the file paths and read each file\n",
        "for file_path in test_csv_files:\n",
        "    participant_features = pd.read_csv(file_path, header=None)\n",
        "\n",
        "    # Extract participant ID from the filename, assuming it's formatted as 'spk_x.csv'\n",
        "    participant_id = int(file_path.split('_')[-1].split('.')[0])\n",
        "\n",
        "    participant_features['participant_id'] = participant_id\n",
        "\n",
        "    # Append to the combined DataFrame\n",
        "    test_features_df = pd.concat([ test_features_df , participant_features], ignore_index=True)\n",
        "\n"
      ]
    },
    {
      "cell_type": "code",
      "execution_count": null,
      "metadata": {
        "id": "Qd_BvFIfZ6MR"
      },
      "outputs": [],
      "source": []
    },
    {
      "cell_type": "code",
      "execution_count": null,
      "metadata": {
        "id": "947wfrDsZ6MS"
      },
      "outputs": [],
      "source": [
        "features_list = [\n",
        "    \"F0semitoneFrom27.5Hz_sma3nz_amean\",\n",
        "    \"F0semitoneFrom27.5Hz_sma3nz_stddevNorm\",\n",
        "    \"F0semitoneFrom27.5Hz_sma3nz_percentile20.0\",\n",
        "    \"F0semitoneFrom27.5Hz_sma3nz_percentile50.0\",\n",
        "    \"F0semitoneFrom27.5Hz_sma3nz_percentile80.0\",\n",
        "    \"F0semitoneFrom27.5Hz_sma3nz_pctlrange0-2\",\n",
        "    \"F0semitoneFrom27.5Hz_sma3nz_meanRisingSlope\",\n",
        "    \"F0semitoneFrom27.5Hz_sma3nz_stddevRisingSlope\",\n",
        "    \"F0semitoneFrom27.5Hz_sma3nz_meanFallingSlope\",\n",
        "    \"F0semitoneFrom27.5Hz_sma3nz_stddevFallingSlope\",\n",
        "    \"loudness_sma3_amean\",\n",
        "    \"loudness_sma3_stddevNorm\",\n",
        "    \"loudness_sma3_percentile20.0\",\n",
        "    \"loudness_sma3_percentile50.0\",\n",
        "    \"loudness_sma3_percentile80.0\",\n",
        "    \"loudness_sma3_pctlrange0-2\",\n",
        "    \"loudness_sma3_meanRisingSlope\",\n",
        "    \"loudness_sma3_stddevRisingSlope\",\n",
        "    \"loudness_sma3_meanFallingSlope\",\n",
        "    \"loudness_sma3_stddevFallingSlope\",\n",
        "    \"spectralFlux_sma3_amean\",\n",
        "    \"spectralFlux_sma3_stddevNorm\",\n",
        "    \"mfcc1_sma3_amean\",\n",
        "    \"mfcc1_sma3_stddevNorm\",\n",
        "    \"mfcc2_sma3_amean\",\n",
        "    \"mfcc2_sma3_stddevNorm\",\n",
        "    \"mfcc3_sma3_amean\",\n",
        "    \"mfcc3_sma3_stddevNorm\",\n",
        "    \"mfcc4_sma3_amean\",\n",
        "    \"mfcc4_sma3_stddevNorm\",\n",
        "    \"jitterLocal_sma3nz_amean\",\n",
        "    \"jitterLocal_sma3nz_stddevNorm\",\n",
        "    \"shimmerLocaldB_sma3nz_amean\",\n",
        "    \"shimmerLocaldB_sma3nz_stddevNorm\",\n",
        "    \"HNRdBACF_sma3nz_amean\",\n",
        "    \"HNRdBACF_sma3nz_stddevNorm\",\n",
        "    \"logRelF0-H1-H2_sma3nz_amean\",\n",
        "    \"logRelF0-H1-H2_sma3nz_stddevNorm\",\n",
        "    \"logRelF0-H1-A3_sma3nz_amean\",\n",
        "    \"logRelF0-H1-A3_sma3nz_stddevNorm\",\n",
        "    \"F1frequency_sma3nz_amean\",\n",
        "    \"F1frequency_sma3nz_stddevNorm\",\n",
        "    \"F1bandwidth_sma3nz_amean\",\n",
        "    \"F1bandwidth_sma3nz_stddevNorm\",\n",
        "    \"F1amplitudeLogRelF0_sma3nz_amean\",\n",
        "    \"F1amplitudeLogRelF0_sma3nz_stddevNorm\",\n",
        "    \"F2frequency_sma3nz_amean\",\n",
        "    \"F2frequency_sma3nz_stddevNorm\",\n",
        "    \"F2bandwidth_sma3nz_amean\",\n",
        "    \"F2bandwidth_sma3nz_stddevNorm\",\n",
        "    \"F2amplitudeLogRelF0_sma3nz_amean\",\n",
        "    \"F2amplitudeLogRelF0_sma3nz_stddevNorm\",\n",
        "    \"F3frequency_sma3nz_amean\",\n",
        "    \"F3frequency_sma3nz_stddevNorm\",\n",
        "    \"F3bandwidth_sma3nz_amean\",\n",
        "    \"F3bandwidth_sma3nz_stddevNorm\",\n",
        "    \"F3amplitudeLogRelF0_sma3nz_amean\",\n",
        "    \"F3amplitudeLogRelF0_sma3nz_stddevNorm\",\n",
        "    \"alphaRatioV_sma3nz_amean\",\n",
        "    \"alphaRatioV_sma3nz_stddevNorm\",\n",
        "    \"hammarbergIndexV_sma3nz_amean\",\n",
        "    \"hammarbergIndexV_sma3nz_stddevNorm\",\n",
        "    \"slopeV0-500_sma3nz_amean\",\n",
        "    \"slopeV0-500_sma3nz_stddevNorm\",\n",
        "    \"slopeV500-1500_sma3nz_amean\",\n",
        "    \"slopeV500-1500_sma3nz_stddevNorm\",\n",
        "    \"spectralFluxV_sma3nz_amean\",\n",
        "    \"spectralFluxV_sma3nz_stddevNorm\",\n",
        "    \"mfcc1V_sma3nz_amean\",\n",
        "    \"mfcc1V_sma3nz_stddevNorm\",\n",
        "    \"mfcc2V_sma3nz_amean\",\n",
        "    \"mfcc2V_sma3nz_stddevNorm\",\n",
        "    \"mfcc3V_sma3nz_amean\",\n",
        "    \"mfcc3V_sma3nz_stddevNorm\",\n",
        "    \"mfcc4V_sma3nz_amean\",\n",
        "    \"mfcc4V_sma3nz_stddevNorm\",\n",
        "    \"alphaRatioUV_sma3nz_amean\",\n",
        "    \"hammarbergIndexUV_sma3nz_amean\",\n",
        "    \"slopeUV0-500_sma3nz_amean\",\n",
        "    \"slopeUV500-1500_sma3nz_amean\",\n",
        "    \"spectralFluxUV_sma3nz_amean\",\n",
        "    \"loudnessPeaksPerSec\",\n",
        "    \"VoicedSegmentsPerSec\",\n",
        "    \"MeanVoicedSegmentLengthSec\",\n",
        "    \"StddevVoicedSegmentLengthSec\",\n",
        "    \"MeanUnvoicedSegmentLength\",\n",
        "    \"StddevUnvoicedSegmentLength\",\n",
        "    \"equivalentSoundLevel_dBp\",\n",
        "    \"participant_id\"\n",
        "]\n"
      ]
    },
    {
      "cell_type": "code",
      "execution_count": null,
      "metadata": {
        "id": "LT7iJxzuZ6MS"
      },
      "outputs": [],
      "source": [
        "all_features_df.columns= features_list"
      ]
    },
    {
      "cell_type": "code",
      "execution_count": null,
      "metadata": {
        "id": "pbg9z8YLZ6MS",
        "outputId": "c377fa99-19a9-4e55-992b-bb4e1108a828"
      },
      "outputs": [
        {
          "data": {
            "text/html": [
              "<div>\n",
              "<style scoped>\n",
              "    .dataframe tbody tr th:only-of-type {\n",
              "        vertical-align: middle;\n",
              "    }\n",
              "\n",
              "    .dataframe tbody tr th {\n",
              "        vertical-align: top;\n",
              "    }\n",
              "\n",
              "    .dataframe thead th {\n",
              "        text-align: right;\n",
              "    }\n",
              "</style>\n",
              "<table border=\"1\" class=\"dataframe\">\n",
              "  <thead>\n",
              "    <tr style=\"text-align: right;\">\n",
              "      <th></th>\n",
              "      <th>F0semitoneFrom27.5Hz_sma3nz_amean</th>\n",
              "      <th>F0semitoneFrom27.5Hz_sma3nz_stddevNorm</th>\n",
              "      <th>F0semitoneFrom27.5Hz_sma3nz_percentile20.0</th>\n",
              "      <th>F0semitoneFrom27.5Hz_sma3nz_percentile50.0</th>\n",
              "      <th>F0semitoneFrom27.5Hz_sma3nz_percentile80.0</th>\n",
              "      <th>F0semitoneFrom27.5Hz_sma3nz_pctlrange0-2</th>\n",
              "      <th>F0semitoneFrom27.5Hz_sma3nz_meanRisingSlope</th>\n",
              "      <th>F0semitoneFrom27.5Hz_sma3nz_stddevRisingSlope</th>\n",
              "      <th>F0semitoneFrom27.5Hz_sma3nz_meanFallingSlope</th>\n",
              "      <th>F0semitoneFrom27.5Hz_sma3nz_stddevFallingSlope</th>\n",
              "      <th>...</th>\n",
              "      <th>slopeUV500-1500_sma3nz_amean</th>\n",
              "      <th>spectralFluxUV_sma3nz_amean</th>\n",
              "      <th>loudnessPeaksPerSec</th>\n",
              "      <th>VoicedSegmentsPerSec</th>\n",
              "      <th>MeanVoicedSegmentLengthSec</th>\n",
              "      <th>StddevVoicedSegmentLengthSec</th>\n",
              "      <th>MeanUnvoicedSegmentLength</th>\n",
              "      <th>StddevUnvoicedSegmentLength</th>\n",
              "      <th>equivalentSoundLevel_dBp</th>\n",
              "      <th>participant_id</th>\n",
              "    </tr>\n",
              "  </thead>\n",
              "  <tbody>\n",
              "    <tr>\n",
              "      <th>0</th>\n",
              "      <td>37.110800</td>\n",
              "      <td>0.016898</td>\n",
              "      <td>36.521458</td>\n",
              "      <td>37.090477</td>\n",
              "      <td>37.525204</td>\n",
              "      <td>1.003746</td>\n",
              "      <td>24.374560</td>\n",
              "      <td>11.693271</td>\n",
              "      <td>-0.207191</td>\n",
              "      <td>9.438403</td>\n",
              "      <td>...</td>\n",
              "      <td>0.000534</td>\n",
              "      <td>0.033145</td>\n",
              "      <td>6.140351</td>\n",
              "      <td>4.629630</td>\n",
              "      <td>0.142</td>\n",
              "      <td>0.117541</td>\n",
              "      <td>0.070000</td>\n",
              "      <td>0.027386</td>\n",
              "      <td>-39.496513</td>\n",
              "      <td>303</td>\n",
              "    </tr>\n",
              "    <tr>\n",
              "      <th>1</th>\n",
              "      <td>33.466145</td>\n",
              "      <td>0.081636</td>\n",
              "      <td>30.579086</td>\n",
              "      <td>32.893642</td>\n",
              "      <td>35.499447</td>\n",
              "      <td>4.920361</td>\n",
              "      <td>12.148806</td>\n",
              "      <td>0.000000</td>\n",
              "      <td>16.623375</td>\n",
              "      <td>0.000000</td>\n",
              "      <td>...</td>\n",
              "      <td>0.005755</td>\n",
              "      <td>0.018813</td>\n",
              "      <td>2.142857</td>\n",
              "      <td>2.222222</td>\n",
              "      <td>0.210</td>\n",
              "      <td>0.072572</td>\n",
              "      <td>0.162500</td>\n",
              "      <td>0.084963</td>\n",
              "      <td>-40.960510</td>\n",
              "      <td>303</td>\n",
              "    </tr>\n",
              "    <tr>\n",
              "      <th>2</th>\n",
              "      <td>31.222300</td>\n",
              "      <td>0.035549</td>\n",
              "      <td>30.420216</td>\n",
              "      <td>30.726269</td>\n",
              "      <td>31.939356</td>\n",
              "      <td>1.519140</td>\n",
              "      <td>6.691987</td>\n",
              "      <td>0.000000</td>\n",
              "      <td>23.152794</td>\n",
              "      <td>0.000000</td>\n",
              "      <td>...</td>\n",
              "      <td>0.008003</td>\n",
              "      <td>0.017920</td>\n",
              "      <td>2.941176</td>\n",
              "      <td>1.587302</td>\n",
              "      <td>0.230</td>\n",
              "      <td>0.000000</td>\n",
              "      <td>0.185000</td>\n",
              "      <td>0.065000</td>\n",
              "      <td>-42.518540</td>\n",
              "      <td>303</td>\n",
              "    </tr>\n",
              "    <tr>\n",
              "      <th>3</th>\n",
              "      <td>34.281920</td>\n",
              "      <td>0.031365</td>\n",
              "      <td>32.879463</td>\n",
              "      <td>34.713913</td>\n",
              "      <td>35.204903</td>\n",
              "      <td>2.325439</td>\n",
              "      <td>3.409068</td>\n",
              "      <td>0.000000</td>\n",
              "      <td>10.839425</td>\n",
              "      <td>0.000000</td>\n",
              "      <td>...</td>\n",
              "      <td>0.004489</td>\n",
              "      <td>0.021129</td>\n",
              "      <td>3.947368</td>\n",
              "      <td>2.816901</td>\n",
              "      <td>0.180</td>\n",
              "      <td>0.000000</td>\n",
              "      <td>0.100000</td>\n",
              "      <td>0.024495</td>\n",
              "      <td>-44.036240</td>\n",
              "      <td>303</td>\n",
              "    </tr>\n",
              "    <tr>\n",
              "      <th>4</th>\n",
              "      <td>34.795260</td>\n",
              "      <td>0.018941</td>\n",
              "      <td>34.109280</td>\n",
              "      <td>34.899593</td>\n",
              "      <td>35.433464</td>\n",
              "      <td>1.324184</td>\n",
              "      <td>16.008287</td>\n",
              "      <td>14.265874</td>\n",
              "      <td>10.287021</td>\n",
              "      <td>6.374829</td>\n",
              "      <td>...</td>\n",
              "      <td>0.006402</td>\n",
              "      <td>0.018257</td>\n",
              "      <td>4.000000</td>\n",
              "      <td>2.040816</td>\n",
              "      <td>0.272</td>\n",
              "      <td>0.109435</td>\n",
              "      <td>0.163333</td>\n",
              "      <td>0.170945</td>\n",
              "      <td>-42.155136</td>\n",
              "      <td>303</td>\n",
              "    </tr>\n",
              "  </tbody>\n",
              "</table>\n",
              "<p>5 rows × 89 columns</p>\n",
              "</div>"
            ],
            "text/plain": [
              "   F0semitoneFrom27.5Hz_sma3nz_amean  F0semitoneFrom27.5Hz_sma3nz_stddevNorm  \\\n",
              "0                          37.110800                                0.016898   \n",
              "1                          33.466145                                0.081636   \n",
              "2                          31.222300                                0.035549   \n",
              "3                          34.281920                                0.031365   \n",
              "4                          34.795260                                0.018941   \n",
              "\n",
              "   F0semitoneFrom27.5Hz_sma3nz_percentile20.0  \\\n",
              "0                                   36.521458   \n",
              "1                                   30.579086   \n",
              "2                                   30.420216   \n",
              "3                                   32.879463   \n",
              "4                                   34.109280   \n",
              "\n",
              "   F0semitoneFrom27.5Hz_sma3nz_percentile50.0  \\\n",
              "0                                   37.090477   \n",
              "1                                   32.893642   \n",
              "2                                   30.726269   \n",
              "3                                   34.713913   \n",
              "4                                   34.899593   \n",
              "\n",
              "   F0semitoneFrom27.5Hz_sma3nz_percentile80.0  \\\n",
              "0                                   37.525204   \n",
              "1                                   35.499447   \n",
              "2                                   31.939356   \n",
              "3                                   35.204903   \n",
              "4                                   35.433464   \n",
              "\n",
              "   F0semitoneFrom27.5Hz_sma3nz_pctlrange0-2  \\\n",
              "0                                  1.003746   \n",
              "1                                  4.920361   \n",
              "2                                  1.519140   \n",
              "3                                  2.325439   \n",
              "4                                  1.324184   \n",
              "\n",
              "   F0semitoneFrom27.5Hz_sma3nz_meanRisingSlope  \\\n",
              "0                                    24.374560   \n",
              "1                                    12.148806   \n",
              "2                                     6.691987   \n",
              "3                                     3.409068   \n",
              "4                                    16.008287   \n",
              "\n",
              "   F0semitoneFrom27.5Hz_sma3nz_stddevRisingSlope  \\\n",
              "0                                      11.693271   \n",
              "1                                       0.000000   \n",
              "2                                       0.000000   \n",
              "3                                       0.000000   \n",
              "4                                      14.265874   \n",
              "\n",
              "   F0semitoneFrom27.5Hz_sma3nz_meanFallingSlope  \\\n",
              "0                                     -0.207191   \n",
              "1                                     16.623375   \n",
              "2                                     23.152794   \n",
              "3                                     10.839425   \n",
              "4                                     10.287021   \n",
              "\n",
              "   F0semitoneFrom27.5Hz_sma3nz_stddevFallingSlope  ...  \\\n",
              "0                                        9.438403  ...   \n",
              "1                                        0.000000  ...   \n",
              "2                                        0.000000  ...   \n",
              "3                                        0.000000  ...   \n",
              "4                                        6.374829  ...   \n",
              "\n",
              "   slopeUV500-1500_sma3nz_amean  spectralFluxUV_sma3nz_amean  \\\n",
              "0                      0.000534                     0.033145   \n",
              "1                      0.005755                     0.018813   \n",
              "2                      0.008003                     0.017920   \n",
              "3                      0.004489                     0.021129   \n",
              "4                      0.006402                     0.018257   \n",
              "\n",
              "   loudnessPeaksPerSec  VoicedSegmentsPerSec  MeanVoicedSegmentLengthSec  \\\n",
              "0             6.140351              4.629630                       0.142   \n",
              "1             2.142857              2.222222                       0.210   \n",
              "2             2.941176              1.587302                       0.230   \n",
              "3             3.947368              2.816901                       0.180   \n",
              "4             4.000000              2.040816                       0.272   \n",
              "\n",
              "   StddevVoicedSegmentLengthSec  MeanUnvoicedSegmentLength  \\\n",
              "0                      0.117541                   0.070000   \n",
              "1                      0.072572                   0.162500   \n",
              "2                      0.000000                   0.185000   \n",
              "3                      0.000000                   0.100000   \n",
              "4                      0.109435                   0.163333   \n",
              "\n",
              "   StddevUnvoicedSegmentLength  equivalentSoundLevel_dBp  participant_id  \n",
              "0                     0.027386                -39.496513             303  \n",
              "1                     0.084963                -40.960510             303  \n",
              "2                     0.065000                -42.518540             303  \n",
              "3                     0.024495                -44.036240             303  \n",
              "4                     0.170945                -42.155136             303  \n",
              "\n",
              "[5 rows x 89 columns]"
            ]
          },
          "execution_count": 9,
          "metadata": {},
          "output_type": "execute_result"
        }
      ],
      "source": [
        "all_features_df.head()"
      ]
    },
    {
      "cell_type": "code",
      "execution_count": null,
      "metadata": {
        "id": "JwEuh66WZ6MT"
      },
      "outputs": [],
      "source": [
        "test_features_df.columns = features_list"
      ]
    },
    {
      "cell_type": "code",
      "execution_count": null,
      "metadata": {
        "id": "n-xv6HqDZ6MT",
        "outputId": "11bfc996-ff46-4c49-b168-f632b99492a9"
      },
      "outputs": [
        {
          "data": {
            "text/html": [
              "<div>\n",
              "<style scoped>\n",
              "    .dataframe tbody tr th:only-of-type {\n",
              "        vertical-align: middle;\n",
              "    }\n",
              "\n",
              "    .dataframe tbody tr th {\n",
              "        vertical-align: top;\n",
              "    }\n",
              "\n",
              "    .dataframe thead th {\n",
              "        text-align: right;\n",
              "    }\n",
              "</style>\n",
              "<table border=\"1\" class=\"dataframe\">\n",
              "  <thead>\n",
              "    <tr style=\"text-align: right;\">\n",
              "      <th></th>\n",
              "      <th>F0semitoneFrom27.5Hz_sma3nz_amean</th>\n",
              "      <th>F0semitoneFrom27.5Hz_sma3nz_stddevNorm</th>\n",
              "      <th>F0semitoneFrom27.5Hz_sma3nz_percentile20.0</th>\n",
              "      <th>F0semitoneFrom27.5Hz_sma3nz_percentile50.0</th>\n",
              "      <th>F0semitoneFrom27.5Hz_sma3nz_percentile80.0</th>\n",
              "      <th>F0semitoneFrom27.5Hz_sma3nz_pctlrange0-2</th>\n",
              "      <th>F0semitoneFrom27.5Hz_sma3nz_meanRisingSlope</th>\n",
              "      <th>F0semitoneFrom27.5Hz_sma3nz_stddevRisingSlope</th>\n",
              "      <th>F0semitoneFrom27.5Hz_sma3nz_meanFallingSlope</th>\n",
              "      <th>F0semitoneFrom27.5Hz_sma3nz_stddevFallingSlope</th>\n",
              "      <th>...</th>\n",
              "      <th>slopeUV500-1500_sma3nz_amean</th>\n",
              "      <th>spectralFluxUV_sma3nz_amean</th>\n",
              "      <th>loudnessPeaksPerSec</th>\n",
              "      <th>VoicedSegmentsPerSec</th>\n",
              "      <th>MeanVoicedSegmentLengthSec</th>\n",
              "      <th>StddevVoicedSegmentLengthSec</th>\n",
              "      <th>MeanUnvoicedSegmentLength</th>\n",
              "      <th>StddevUnvoicedSegmentLength</th>\n",
              "      <th>equivalentSoundLevel_dBp</th>\n",
              "      <th>participant_id</th>\n",
              "    </tr>\n",
              "  </thead>\n",
              "  <tbody>\n",
              "    <tr>\n",
              "      <th>0</th>\n",
              "      <td>32.160255</td>\n",
              "      <td>0.200581</td>\n",
              "      <td>23.145561</td>\n",
              "      <td>35.632530</td>\n",
              "      <td>36.815937</td>\n",
              "      <td>13.670376</td>\n",
              "      <td>-65.049820</td>\n",
              "      <td>0.000000</td>\n",
              "      <td>28.641510</td>\n",
              "      <td>0.000000</td>\n",
              "      <td>...</td>\n",
              "      <td>-0.018741</td>\n",
              "      <td>0.274747</td>\n",
              "      <td>0.840336</td>\n",
              "      <td>1.754386</td>\n",
              "      <td>0.145000</td>\n",
              "      <td>0.065000</td>\n",
              "      <td>0.266667</td>\n",
              "      <td>0.164384</td>\n",
              "      <td>-24.856180</td>\n",
              "      <td>305</td>\n",
              "    </tr>\n",
              "    <tr>\n",
              "      <th>1</th>\n",
              "      <td>28.780031</td>\n",
              "      <td>0.074786</td>\n",
              "      <td>27.129395</td>\n",
              "      <td>28.150295</td>\n",
              "      <td>31.058764</td>\n",
              "      <td>3.929369</td>\n",
              "      <td>52.741413</td>\n",
              "      <td>13.374495</td>\n",
              "      <td>3.220003</td>\n",
              "      <td>4.861248</td>\n",
              "      <td>...</td>\n",
              "      <td>-0.014919</td>\n",
              "      <td>0.389687</td>\n",
              "      <td>3.070175</td>\n",
              "      <td>3.139013</td>\n",
              "      <td>0.170000</td>\n",
              "      <td>0.140712</td>\n",
              "      <td>0.145000</td>\n",
              "      <td>0.123119</td>\n",
              "      <td>-20.882643</td>\n",
              "      <td>305</td>\n",
              "    </tr>\n",
              "    <tr>\n",
              "      <th>2</th>\n",
              "      <td>29.038708</td>\n",
              "      <td>0.144522</td>\n",
              "      <td>25.411283</td>\n",
              "      <td>25.819115</td>\n",
              "      <td>34.090847</td>\n",
              "      <td>8.679564</td>\n",
              "      <td>65.176770</td>\n",
              "      <td>0.000000</td>\n",
              "      <td>-13.047282</td>\n",
              "      <td>0.000000</td>\n",
              "      <td>...</td>\n",
              "      <td>-0.017801</td>\n",
              "      <td>0.239352</td>\n",
              "      <td>1.190476</td>\n",
              "      <td>2.531646</td>\n",
              "      <td>0.075000</td>\n",
              "      <td>0.015000</td>\n",
              "      <td>0.196667</td>\n",
              "      <td>0.110252</td>\n",
              "      <td>-21.540741</td>\n",
              "      <td>305</td>\n",
              "    </tr>\n",
              "    <tr>\n",
              "      <th>3</th>\n",
              "      <td>24.198637</td>\n",
              "      <td>0.077389</td>\n",
              "      <td>22.477812</td>\n",
              "      <td>24.032180</td>\n",
              "      <td>25.971500</td>\n",
              "      <td>3.493689</td>\n",
              "      <td>106.853410</td>\n",
              "      <td>211.200330</td>\n",
              "      <td>14.058883</td>\n",
              "      <td>9.024993</td>\n",
              "      <td>...</td>\n",
              "      <td>-0.016768</td>\n",
              "      <td>0.280889</td>\n",
              "      <td>2.503682</td>\n",
              "      <td>1.699926</td>\n",
              "      <td>0.166087</td>\n",
              "      <td>0.145086</td>\n",
              "      <td>0.385000</td>\n",
              "      <td>0.467377</td>\n",
              "      <td>-23.443264</td>\n",
              "      <td>305</td>\n",
              "    </tr>\n",
              "    <tr>\n",
              "      <th>4</th>\n",
              "      <td>23.637993</td>\n",
              "      <td>0.130217</td>\n",
              "      <td>18.551594</td>\n",
              "      <td>25.037369</td>\n",
              "      <td>26.020950</td>\n",
              "      <td>7.469356</td>\n",
              "      <td>40.880257</td>\n",
              "      <td>21.864357</td>\n",
              "      <td>4.867825</td>\n",
              "      <td>10.950583</td>\n",
              "      <td>...</td>\n",
              "      <td>-0.013799</td>\n",
              "      <td>0.129880</td>\n",
              "      <td>1.754386</td>\n",
              "      <td>2.409639</td>\n",
              "      <td>0.112500</td>\n",
              "      <td>0.078859</td>\n",
              "      <td>0.224000</td>\n",
              "      <td>0.308649</td>\n",
              "      <td>-31.355045</td>\n",
              "      <td>305</td>\n",
              "    </tr>\n",
              "  </tbody>\n",
              "</table>\n",
              "<p>5 rows × 89 columns</p>\n",
              "</div>"
            ],
            "text/plain": [
              "   F0semitoneFrom27.5Hz_sma3nz_amean  F0semitoneFrom27.5Hz_sma3nz_stddevNorm  \\\n",
              "0                          32.160255                                0.200581   \n",
              "1                          28.780031                                0.074786   \n",
              "2                          29.038708                                0.144522   \n",
              "3                          24.198637                                0.077389   \n",
              "4                          23.637993                                0.130217   \n",
              "\n",
              "   F0semitoneFrom27.5Hz_sma3nz_percentile20.0  \\\n",
              "0                                   23.145561   \n",
              "1                                   27.129395   \n",
              "2                                   25.411283   \n",
              "3                                   22.477812   \n",
              "4                                   18.551594   \n",
              "\n",
              "   F0semitoneFrom27.5Hz_sma3nz_percentile50.0  \\\n",
              "0                                   35.632530   \n",
              "1                                   28.150295   \n",
              "2                                   25.819115   \n",
              "3                                   24.032180   \n",
              "4                                   25.037369   \n",
              "\n",
              "   F0semitoneFrom27.5Hz_sma3nz_percentile80.0  \\\n",
              "0                                   36.815937   \n",
              "1                                   31.058764   \n",
              "2                                   34.090847   \n",
              "3                                   25.971500   \n",
              "4                                   26.020950   \n",
              "\n",
              "   F0semitoneFrom27.5Hz_sma3nz_pctlrange0-2  \\\n",
              "0                                 13.670376   \n",
              "1                                  3.929369   \n",
              "2                                  8.679564   \n",
              "3                                  3.493689   \n",
              "4                                  7.469356   \n",
              "\n",
              "   F0semitoneFrom27.5Hz_sma3nz_meanRisingSlope  \\\n",
              "0                                   -65.049820   \n",
              "1                                    52.741413   \n",
              "2                                    65.176770   \n",
              "3                                   106.853410   \n",
              "4                                    40.880257   \n",
              "\n",
              "   F0semitoneFrom27.5Hz_sma3nz_stddevRisingSlope  \\\n",
              "0                                       0.000000   \n",
              "1                                      13.374495   \n",
              "2                                       0.000000   \n",
              "3                                     211.200330   \n",
              "4                                      21.864357   \n",
              "\n",
              "   F0semitoneFrom27.5Hz_sma3nz_meanFallingSlope  \\\n",
              "0                                     28.641510   \n",
              "1                                      3.220003   \n",
              "2                                    -13.047282   \n",
              "3                                     14.058883   \n",
              "4                                      4.867825   \n",
              "\n",
              "   F0semitoneFrom27.5Hz_sma3nz_stddevFallingSlope  ...  \\\n",
              "0                                        0.000000  ...   \n",
              "1                                        4.861248  ...   \n",
              "2                                        0.000000  ...   \n",
              "3                                        9.024993  ...   \n",
              "4                                       10.950583  ...   \n",
              "\n",
              "   slopeUV500-1500_sma3nz_amean  spectralFluxUV_sma3nz_amean  \\\n",
              "0                     -0.018741                     0.274747   \n",
              "1                     -0.014919                     0.389687   \n",
              "2                     -0.017801                     0.239352   \n",
              "3                     -0.016768                     0.280889   \n",
              "4                     -0.013799                     0.129880   \n",
              "\n",
              "   loudnessPeaksPerSec  VoicedSegmentsPerSec  MeanVoicedSegmentLengthSec  \\\n",
              "0             0.840336              1.754386                    0.145000   \n",
              "1             3.070175              3.139013                    0.170000   \n",
              "2             1.190476              2.531646                    0.075000   \n",
              "3             2.503682              1.699926                    0.166087   \n",
              "4             1.754386              2.409639                    0.112500   \n",
              "\n",
              "   StddevVoicedSegmentLengthSec  MeanUnvoicedSegmentLength  \\\n",
              "0                      0.065000                   0.266667   \n",
              "1                      0.140712                   0.145000   \n",
              "2                      0.015000                   0.196667   \n",
              "3                      0.145086                   0.385000   \n",
              "4                      0.078859                   0.224000   \n",
              "\n",
              "   StddevUnvoicedSegmentLength  equivalentSoundLevel_dBp  participant_id  \n",
              "0                     0.164384                -24.856180             305  \n",
              "1                     0.123119                -20.882643             305  \n",
              "2                     0.110252                -21.540741             305  \n",
              "3                     0.467377                -23.443264             305  \n",
              "4                     0.308649                -31.355045             305  \n",
              "\n",
              "[5 rows x 89 columns]"
            ]
          },
          "execution_count": 11,
          "metadata": {},
          "output_type": "execute_result"
        }
      ],
      "source": [
        "test_features_df.head()"
      ]
    },
    {
      "cell_type": "code",
      "execution_count": null,
      "metadata": {
        "id": "xfY3DsVfZ6MU"
      },
      "outputs": [],
      "source": []
    },
    {
      "cell_type": "code",
      "execution_count": null,
      "metadata": {
        "id": "NQ8c3DrSZ6MU"
      },
      "outputs": [],
      "source": [
        "labels_df = pd.read_csv(\"labels.csv\")"
      ]
    },
    {
      "cell_type": "code",
      "execution_count": null,
      "metadata": {
        "id": "h57Ep9PbZ6MU"
      },
      "outputs": [],
      "source": [
        "labels_df.columns = [col.lower().replace(\" \", \"_\") for col in labels_df.columns]"
      ]
    },
    {
      "cell_type": "code",
      "execution_count": null,
      "metadata": {
        "id": "mPpxkE53Z6MU",
        "outputId": "b552b4cb-5aaf-41ed-ba0f-6aeb9dd70860"
      },
      "outputs": [
        {
          "data": {
            "text/html": [
              "<div>\n",
              "<style scoped>\n",
              "    .dataframe tbody tr th:only-of-type {\n",
              "        vertical-align: middle;\n",
              "    }\n",
              "\n",
              "    .dataframe tbody tr th {\n",
              "        vertical-align: top;\n",
              "    }\n",
              "\n",
              "    .dataframe thead th {\n",
              "        text-align: right;\n",
              "    }\n",
              "</style>\n",
              "<table border=\"1\" class=\"dataframe\">\n",
              "  <thead>\n",
              "    <tr style=\"text-align: right;\">\n",
              "      <th></th>\n",
              "      <th>participant_id</th>\n",
              "      <th>depression</th>\n",
              "      <th>gender</th>\n",
              "    </tr>\n",
              "  </thead>\n",
              "  <tbody>\n",
              "    <tr>\n",
              "      <th>0</th>\n",
              "      <td>303.0</td>\n",
              "      <td>0</td>\n",
              "      <td>0</td>\n",
              "    </tr>\n",
              "    <tr>\n",
              "      <th>1</th>\n",
              "      <td>304.0</td>\n",
              "      <td>0</td>\n",
              "      <td>0</td>\n",
              "    </tr>\n",
              "    <tr>\n",
              "      <th>2</th>\n",
              "      <td>305.0</td>\n",
              "      <td>0</td>\n",
              "      <td>1</td>\n",
              "    </tr>\n",
              "    <tr>\n",
              "      <th>3</th>\n",
              "      <td>310.0</td>\n",
              "      <td>0</td>\n",
              "      <td>1</td>\n",
              "    </tr>\n",
              "    <tr>\n",
              "      <th>4</th>\n",
              "      <td>312.0</td>\n",
              "      <td>0</td>\n",
              "      <td>1</td>\n",
              "    </tr>\n",
              "  </tbody>\n",
              "</table>\n",
              "</div>"
            ],
            "text/plain": [
              "   participant_id  depression  gender\n",
              "0           303.0           0       0\n",
              "1           304.0           0       0\n",
              "2           305.0           0       1\n",
              "3           310.0           0       1\n",
              "4           312.0           0       1"
            ]
          },
          "execution_count": 14,
          "metadata": {},
          "output_type": "execute_result"
        }
      ],
      "source": [
        "labels_df.head()"
      ]
    },
    {
      "cell_type": "code",
      "execution_count": null,
      "metadata": {
        "id": "j1QH_LdJZ6MU"
      },
      "outputs": [],
      "source": [
        "temp = all_features_df.merge(labels_df, on = 'participant_id')\n",
        "test_temp = test_features_df.merge(labels_df, on = 'participant_id')"
      ]
    },
    {
      "cell_type": "code",
      "execution_count": null,
      "metadata": {
        "id": "uZlzRnrAZ6MU",
        "outputId": "9525a656-e982-4af5-fcf1-c3c58b8a4fbd"
      },
      "outputs": [
        {
          "data": {
            "text/plain": [
              "((13626, 91), (3280, 91))"
            ]
          },
          "execution_count": 16,
          "metadata": {},
          "output_type": "execute_result"
        }
      ],
      "source": [
        "temp.shape,test_temp.shape"
      ]
    },
    {
      "cell_type": "code",
      "execution_count": null,
      "metadata": {
        "id": "OcXDGJn4Z6MU"
      },
      "outputs": [],
      "source": [
        "temp.to_csv('combined_participants_data.csv', index=False)\n",
        "test_temp.to_csv('test_combined_participants_data.csv', index=False)\n"
      ]
    },
    {
      "cell_type": "code",
      "execution_count": null,
      "metadata": {
        "id": "DFs1bp3xZ6MU"
      },
      "outputs": [],
      "source": [
        "columns_to_be_scaled = temp.drop(columns = ['participant_id', 'depression', 'gender']).columns\n",
        "test_columns_to_be_scaled = test_temp.drop(columns = ['participant_id', 'depression', 'gender']).columns\n"
      ]
    },
    {
      "cell_type": "code",
      "execution_count": null,
      "metadata": {
        "id": "w45eTQoMZ6MU"
      },
      "outputs": [],
      "source": []
    },
    {
      "cell_type": "code",
      "execution_count": null,
      "metadata": {
        "id": "-bsg2QwBZ6MV"
      },
      "outputs": [],
      "source": [
        "from sklearn.preprocessing import StandardScaler"
      ]
    },
    {
      "cell_type": "code",
      "execution_count": null,
      "metadata": {
        "id": "_1j_xsKMZ6MV"
      },
      "outputs": [],
      "source": [
        "scaler = StandardScaler()"
      ]
    },
    {
      "cell_type": "code",
      "execution_count": null,
      "metadata": {
        "id": "8POaI2OxZ6MV"
      },
      "outputs": [],
      "source": [
        "scaled_data = scaler.fit_transform(temp[columns_to_be_scaled])\n",
        "test_scaled_data = scaler.fit_transform(test_temp[test_columns_to_be_scaled])"
      ]
    },
    {
      "cell_type": "code",
      "execution_count": null,
      "metadata": {
        "id": "w6gOPEyCZ6MV"
      },
      "outputs": [],
      "source": [
        "scaled_df = pd.DataFrame(scaled_data)\n",
        "scaled_test_df = pd.DataFrame(test_scaled_data)"
      ]
    },
    {
      "cell_type": "code",
      "execution_count": null,
      "metadata": {
        "id": "fWm4fCOIZ6MV",
        "outputId": "c4c6b8da-3502-4a9c-c04b-68429a635087"
      },
      "outputs": [
        {
          "data": {
            "image/png": "[encoded data removed]",
            "text/plain": [
              "<Figure size 640x480 with 1 Axes>"
            ]
          },
          "metadata": {},
          "output_type": "display_data"
        }
      ],
      "source": [
        "plt.hist(scaled_df[0], bins=30, alpha=0.7)\n",
        "plt.hist(scaled_test_df[0], bins = 25, alpha=0.5)\n",
        "plt.title('Histogram of Scaled Data')\n",
        "plt.show()"
      ]
    },
    {
      "cell_type": "code",
      "execution_count": null,
      "metadata": {
        "id": "X5ja3jv6Z6MV"
      },
      "outputs": [],
      "source": []
    },
    {
      "cell_type": "code",
      "execution_count": null,
      "metadata": {
        "id": "aPsdY7n9Z6MW"
      },
      "outputs": [],
      "source": []
    },
    {
      "cell_type": "code",
      "execution_count": null,
      "metadata": {
        "id": "1NtdYL6lZ6MW"
      },
      "outputs": [],
      "source": [
        "\n",
        "# not_outliers_IQR.plot(kind='hist', bins = 30, edgecolor='black', alpha= 0.3, density=True)\n",
        "# mean_value = not_outliers_IQR.mean()\n",
        "\n",
        "# # Draw KDE using seaborn\n",
        "# sns.kdeplot(data, color=\"blue\", lw=2)\n",
        "\n",
        "# # Draw a vertical line at the mean (or median)\n",
        "# plt.axvline(mean_value, color='red', linestyle='dashed', linewidth=2)\n",
        "# # plt.axvline(median_value, color='red', linestyle='dashed', linewidth=2)  # For median\n"
      ]
    },
    {
      "cell_type": "code",
      "execution_count": null,
      "metadata": {
        "id": "uTJltkt-Z6MW"
      },
      "outputs": [],
      "source": [
        "# shapiro_test = stats.shapiro(not_outliers_IQR)\n",
        "# print(f\"Shapiro-Wilk Test: Statistic={shapiro_test.statistic}, p-value={shapiro_test.pvalue}\")\n"
      ]
    },
    {
      "cell_type": "code",
      "execution_count": null,
      "metadata": {
        "id": "yK6WHrHrZ6MW"
      },
      "outputs": [],
      "source": [
        "# import numpy as np\n",
        "\n",
        "# squared_col_0 = np.sqrt(scaled_df[0])"
      ]
    },
    {
      "cell_type": "code",
      "execution_count": null,
      "metadata": {
        "id": "8VKH5e5tZ6MW"
      },
      "outputs": [],
      "source": [
        "# squared_col_0.shape"
      ]
    },
    {
      "cell_type": "code",
      "execution_count": null,
      "metadata": {
        "id": "8XtNgYwEZ6MW"
      },
      "outputs": [],
      "source": [
        "\n",
        "# squared_col_0.plot(kind='hist', bins = 30, edgecolor='black', alpha= 0.3,  density=True)\n",
        "# mean_value = squared_col_0.mean()\n",
        "# # Draw KDE using seaborn\n",
        "# sns.kdeplot(squared_col_0, color=\"blue\", lw=2)\n",
        "\n",
        "# # Draw a vertical line at the mean (or median)\n",
        "# plt.axvline(mean_value, color='red', linestyle='dashed', linewidth=2)\n",
        "# # plt.axvline(median_value, color='red', linestyle='dashed', linewidth=2)  # For median\n"
      ]
    },
    {
      "cell_type": "code",
      "execution_count": null,
      "metadata": {
        "id": "4DbVe0NXZ6MW"
      },
      "outputs": [],
      "source": [
        "# shapiro_test = stats.shapiro(squared_col_0)\n",
        "# print(f\"Shapiro-Wilk Test: Statistic={shapiro_test.statistic}, p-value={shapiro_test.pvalue}\")\n",
        "\n"
      ]
    },
    {
      "cell_type": "code",
      "execution_count": null,
      "metadata": {
        "id": "nTN9PPufZ6MW"
      },
      "outputs": [],
      "source": [
        "\n",
        "\n",
        "\n"
      ]
    },
    {
      "cell_type": "code",
      "execution_count": null,
      "metadata": {
        "id": "j7B75h6qZ6MW"
      },
      "outputs": [],
      "source": [
        "# plt.hist(squared_col_0, bins=30, alpha=0.3, edgecolor='gray', linewidth=1.2)\n",
        "# mean_value = squared_col_0.mean()\n",
        "\n",
        "# # Draw a vertical line at the mean (or median)\n",
        "# plt.axvline(mean_value, color='red', linestyle='dashed', linewidth=2)\n",
        "# # plt.axvline(median_value, color='red', linestyle='dashed', linewidth=2)  # For median\n",
        "\n",
        "# # Add a label for the line\n",
        "# plt.text(mean_value, plt.ylim()[1]*0.95, 'Mean', horizontalalignment='right', color='red')\n",
        "# # plt.text(median_value, plt.ylim()[1]*0.95, 'Median', horizontalalignment='right', color='red')  # For median\n",
        "\n",
        "\n",
        "\n",
        "# plt.title('Histogram of Scaled Data')\n",
        "# plt.show()"
      ]
    },
    {
      "cell_type": "markdown",
      "metadata": {
        "id": "zJoEMkhnZ6Mi"
      },
      "source": [
        "## Gender - female-1 male-0"
      ]
    },
    {
      "cell_type": "code",
      "execution_count": null,
      "metadata": {
        "id": "GKAlyWB_Z6Mi"
      },
      "outputs": [],
      "source": [
        "# import pandas as pd\n",
        "# from sklearn.model_selection import train_test_split\n",
        "# from sklearn.ensemble import RandomForestClassifier\n",
        "# from sklearn.metrics import accuracy_score, balanced_accuracy_score, confusion_matrix\n",
        "\n",
        "# # Load your dataset\n",
        "# data = temp\n",
        "# # Fill missing values if necessary\n",
        "# data.fillna(data.mean(), inplace=True)\n",
        "\n",
        "# # Prepare feature matrix X and target vector y\n",
        "# X = data.drop(['participant_id', 'depression', 'gender'], axis=1)\n",
        "# y = data['depression']\n",
        "\n",
        "# # Keep the participant_id and gender for later use\n",
        "# participant_ids = data['participant_id']\n",
        "# genders = data['gender']\n",
        "\n",
        "# # Split data into training and testing sets\n",
        "# X_train, X_test, y_train, y_test = train_test_split(X, y, test_size=0.2, stratify=y, random_state=42)\n",
        "# participants_train = participant_ids.loc[X_train.index]\n",
        "# participants_test = participant_ids.loc[X_test.index]\n",
        "# genders_test = genders.loc[X_test.index]\n",
        "\n",
        "# # Initialize the classifier\n",
        "# classifier = RandomForestClassifier(random_state=42)\n",
        "# classifier.fit(X_train, y_train)\n",
        "\n",
        "# # Predict on the test data\n",
        "# y_pred = classifier.predict(X_test)\n",
        "\n",
        "# # Aggregate the predictions to the participant level\n",
        "# participants_results = pd.DataFrame({\n",
        "#     'participant_id': participants_test,\n",
        "#     'true_label': y_test,\n",
        "#     'predicted_label': y_pred,\n",
        "#     'gender': genders_test\n",
        "# })\n",
        "# participants_results_grouped = participants_results.groupby('participant_id').agg({\n",
        "#     'true_label': 'max',  # Assumes that the 'true_label' is the same for all turns of a participant\n",
        "#     'predicted_label': 'mean',  # Average prediction score per participant\n",
        "#     'gender': 'first'  # Gender is the same for all turns of a participant\n",
        "# })\n",
        "\n",
        "# # Threshold the predictions at 0.5 for classification\n",
        "# participants_results_grouped['final_prediction'] = (participants_results_grouped['predicted_label'] >= 0.5).astype(int)\n",
        "\n",
        "# # Calculate the metrics\n",
        "# accuracy_A = accuracy_score(participants_results_grouped['true_label'], participants_results_grouped['final_prediction'])\n",
        "# balanced_accuracy_BA = balanced_accuracy_score(participants_results_grouped['true_label'], participants_results_grouped['final_prediction'])\n",
        "\n",
        "# # Separate the data for female and male participants\n",
        "# female_data = participants_results_grouped[participants_results_grouped['gender'] == 1]\n",
        "# male_data = participants_results_grouped[participants_results_grouped['gender'] == 0]\n",
        "\n",
        "# # Calculate the metrics for female and male participants\n",
        "# accuracy_female = accuracy_score(female_data['true_label'], female_data['final_prediction'])\n",
        "# balanced_accuracy_female = balanced_accuracy_score(female_data['true_label'], female_data['final_prediction'])\n",
        "\n",
        "# accuracy_male = accuracy_score(male_data['true_label'], male_data['final_prediction'])\n",
        "# balanced_accuracy_male = balanced_accuracy_score(male_data['true_label'], male_data['final_prediction'])\n",
        "\n",
        "# # Calculate Equality of Opportunity (EO)\n",
        "# conf_matrix_female = confusion_matrix(female_data['true_label'], female_data['final_prediction'])\n",
        "# conf_matrix_male = confusion_matrix(male_data['true_label'], male_data['final_prediction'])\n",
        "# tpr_female = conf_matrix_female[1, 1] / (conf_matrix_female[1, 1] + conf_matrix_female[1, 0])\n",
        "# tpr_male = conf_matrix_male[1, 1] / (conf_matrix_male[1, 1] + conf_matrix_male[1, 0])\n",
        "# EO = 1 - abs(tpr_male - tpr_female)\n",
        "\n",
        "# # Print the metrics\n",
        "# print(f'Overall Accuracy (A): {accuracy_A}')\n",
        "# print(f'Overall Balanced Accuracy (BA): {balanced_accuracy_BA}')\n",
        "# print(f'Female Accuracy: {accuracy_female}')\n",
        "# print(f'Female Balanced Accuracy: {balanced_accuracy_female}')\n",
        "# print(f'Male Accuracy: {accuracy_male}')\n",
        "# print(f'Male Balanced Accuracy: {balanced_accuracy_male}')\n",
        "# print(f'Equality of Opportunity (EO): {EO}')\n"
      ]
    },
    {
      "cell_type": "markdown",
      "metadata": {
        "id": "PtmHSp20Z6Mj"
      },
      "source": [
        "## Removing the duplicates from train data"
      ]
    },
    {
      "cell_type": "code",
      "execution_count": null,
      "metadata": {
        "id": "xXshWv1fZ6Mj",
        "outputId": "62b9c105-99a6-4b58-fe98-c070cffc3632"
      },
      "outputs": [
        {
          "data": {
            "text/plain": [
              "(13626, 91)"
            ]
          },
          "execution_count": 32,
          "metadata": {},
          "output_type": "execute_result"
        }
      ],
      "source": [
        "temp.shape"
      ]
    },
    {
      "cell_type": "code",
      "execution_count": null,
      "metadata": {
        "id": "45MQfNd1Z6Mj",
        "outputId": "b3070a26-5649-45bc-ecd2-08a136a74120"
      },
      "outputs": [
        {
          "data": {
            "text/plain": [
              "(13625, 91)"
            ]
          },
          "execution_count": 33,
          "metadata": {},
          "output_type": "execute_result"
        }
      ],
      "source": [
        "temp = temp.dropna()\n",
        "temp.shape"
      ]
    },
    {
      "cell_type": "code",
      "execution_count": null,
      "metadata": {
        "id": "nvhDiXr5Z6Mj",
        "outputId": "8cd40ddb-5cbc-4fec-bbac-96b6faf3b381"
      },
      "outputs": [
        {
          "data": {
            "text/plain": [
              "(13625, 91)"
            ]
          },
          "execution_count": 34,
          "metadata": {},
          "output_type": "execute_result"
        }
      ],
      "source": [
        "\n",
        "# Checking for duplicate rows\n",
        "duplicates = temp.duplicated().sum()\n",
        "duplicates\n",
        "# Handling duplicate rows by removing them\n",
        "data_no_duplicates = temp.drop_duplicates()\n",
        "data_no_duplicates.head()\n",
        "data_no_duplicates.shape"
      ]
    },
    {
      "cell_type": "markdown",
      "metadata": {
        "id": "Gs0DUog3Z6Mj"
      },
      "source": [
        "## Removing the duplicates from test data"
      ]
    },
    {
      "cell_type": "code",
      "execution_count": null,
      "metadata": {
        "id": "Q3kkjp6VZ6Mk",
        "outputId": "ed9943db-b6c0-4e18-85aa-12d31f3c675b"
      },
      "outputs": [
        {
          "data": {
            "text/plain": [
              "(3280, 91)"
            ]
          },
          "execution_count": 35,
          "metadata": {},
          "output_type": "execute_result"
        }
      ],
      "source": [
        "test_temp.shape"
      ]
    },
    {
      "cell_type": "code",
      "execution_count": null,
      "metadata": {
        "id": "aGQWmI2TZ6Mk",
        "outputId": "73694c95-c3cc-4875-be98-b8c26558ebaa"
      },
      "outputs": [
        {
          "data": {
            "text/plain": [
              "(3280, 91)"
            ]
          },
          "execution_count": 36,
          "metadata": {},
          "output_type": "execute_result"
        }
      ],
      "source": [
        "test_temp = test_temp.dropna()\n",
        "test_temp.shape"
      ]
    },
    {
      "cell_type": "code",
      "execution_count": null,
      "metadata": {
        "id": "XxUp4PsrZ6Mk",
        "outputId": "131a7653-4acd-4435-853f-c5efea7210b0"
      },
      "outputs": [
        {
          "data": {
            "text/plain": [
              "(3280, 91)"
            ]
          },
          "execution_count": 37,
          "metadata": {},
          "output_type": "execute_result"
        }
      ],
      "source": [
        "\n",
        "# Handling duplicate rows by removing them\n",
        "test_data_no_duplicates = test_temp.drop_duplicates()\n",
        "test_data_no_duplicates.shape"
      ]
    },
    {
      "cell_type": "code",
      "execution_count": null,
      "metadata": {
        "id": "J7FfBd42Z6Mk",
        "outputId": "192c81ec-b7fe-4a4f-98ae-194b3d7ec9c8"
      },
      "outputs": [
        {
          "data": {
            "text/html": [
              "<div>\n",
              "<style scoped>\n",
              "    .dataframe tbody tr th:only-of-type {\n",
              "        vertical-align: middle;\n",
              "    }\n",
              "\n",
              "    .dataframe tbody tr th {\n",
              "        vertical-align: top;\n",
              "    }\n",
              "\n",
              "    .dataframe thead th {\n",
              "        text-align: right;\n",
              "    }\n",
              "</style>\n",
              "<table border=\"1\" class=\"dataframe\">\n",
              "  <thead>\n",
              "    <tr style=\"text-align: right;\">\n",
              "      <th></th>\n",
              "      <th>F0semitoneFrom27.5Hz_sma3nz_amean</th>\n",
              "      <th>F0semitoneFrom27.5Hz_sma3nz_stddevNorm</th>\n",
              "      <th>F0semitoneFrom27.5Hz_sma3nz_percentile20.0</th>\n",
              "      <th>F0semitoneFrom27.5Hz_sma3nz_percentile50.0</th>\n",
              "      <th>F0semitoneFrom27.5Hz_sma3nz_percentile80.0</th>\n",
              "      <th>F0semitoneFrom27.5Hz_sma3nz_pctlrange0-2</th>\n",
              "      <th>F0semitoneFrom27.5Hz_sma3nz_meanRisingSlope</th>\n",
              "      <th>F0semitoneFrom27.5Hz_sma3nz_stddevRisingSlope</th>\n",
              "      <th>F0semitoneFrom27.5Hz_sma3nz_meanFallingSlope</th>\n",
              "      <th>F0semitoneFrom27.5Hz_sma3nz_stddevFallingSlope</th>\n",
              "      <th>...</th>\n",
              "      <th>loudnessPeaksPerSec</th>\n",
              "      <th>VoicedSegmentsPerSec</th>\n",
              "      <th>MeanVoicedSegmentLengthSec</th>\n",
              "      <th>StddevVoicedSegmentLengthSec</th>\n",
              "      <th>MeanUnvoicedSegmentLength</th>\n",
              "      <th>StddevUnvoicedSegmentLength</th>\n",
              "      <th>equivalentSoundLevel_dBp</th>\n",
              "      <th>participant_id</th>\n",
              "      <th>depression</th>\n",
              "      <th>gender</th>\n",
              "    </tr>\n",
              "  </thead>\n",
              "  <tbody>\n",
              "    <tr>\n",
              "      <th>0</th>\n",
              "      <td>32.160255</td>\n",
              "      <td>0.200581</td>\n",
              "      <td>23.145561</td>\n",
              "      <td>35.632530</td>\n",
              "      <td>36.815937</td>\n",
              "      <td>13.670376</td>\n",
              "      <td>-65.049820</td>\n",
              "      <td>0.000000</td>\n",
              "      <td>28.641510</td>\n",
              "      <td>0.000000</td>\n",
              "      <td>...</td>\n",
              "      <td>0.840336</td>\n",
              "      <td>1.754386</td>\n",
              "      <td>0.145000</td>\n",
              "      <td>0.065000</td>\n",
              "      <td>0.266667</td>\n",
              "      <td>0.164384</td>\n",
              "      <td>-24.856180</td>\n",
              "      <td>305</td>\n",
              "      <td>0</td>\n",
              "      <td>1</td>\n",
              "    </tr>\n",
              "    <tr>\n",
              "      <th>1</th>\n",
              "      <td>28.780031</td>\n",
              "      <td>0.074786</td>\n",
              "      <td>27.129395</td>\n",
              "      <td>28.150295</td>\n",
              "      <td>31.058764</td>\n",
              "      <td>3.929369</td>\n",
              "      <td>52.741413</td>\n",
              "      <td>13.374495</td>\n",
              "      <td>3.220003</td>\n",
              "      <td>4.861248</td>\n",
              "      <td>...</td>\n",
              "      <td>3.070175</td>\n",
              "      <td>3.139013</td>\n",
              "      <td>0.170000</td>\n",
              "      <td>0.140712</td>\n",
              "      <td>0.145000</td>\n",
              "      <td>0.123119</td>\n",
              "      <td>-20.882643</td>\n",
              "      <td>305</td>\n",
              "      <td>0</td>\n",
              "      <td>1</td>\n",
              "    </tr>\n",
              "    <tr>\n",
              "      <th>2</th>\n",
              "      <td>29.038708</td>\n",
              "      <td>0.144522</td>\n",
              "      <td>25.411283</td>\n",
              "      <td>25.819115</td>\n",
              "      <td>34.090847</td>\n",
              "      <td>8.679564</td>\n",
              "      <td>65.176770</td>\n",
              "      <td>0.000000</td>\n",
              "      <td>-13.047282</td>\n",
              "      <td>0.000000</td>\n",
              "      <td>...</td>\n",
              "      <td>1.190476</td>\n",
              "      <td>2.531646</td>\n",
              "      <td>0.075000</td>\n",
              "      <td>0.015000</td>\n",
              "      <td>0.196667</td>\n",
              "      <td>0.110252</td>\n",
              "      <td>-21.540741</td>\n",
              "      <td>305</td>\n",
              "      <td>0</td>\n",
              "      <td>1</td>\n",
              "    </tr>\n",
              "    <tr>\n",
              "      <th>3</th>\n",
              "      <td>24.198637</td>\n",
              "      <td>0.077389</td>\n",
              "      <td>22.477812</td>\n",
              "      <td>24.032180</td>\n",
              "      <td>25.971500</td>\n",
              "      <td>3.493689</td>\n",
              "      <td>106.853410</td>\n",
              "      <td>211.200330</td>\n",
              "      <td>14.058883</td>\n",
              "      <td>9.024993</td>\n",
              "      <td>...</td>\n",
              "      <td>2.503682</td>\n",
              "      <td>1.699926</td>\n",
              "      <td>0.166087</td>\n",
              "      <td>0.145086</td>\n",
              "      <td>0.385000</td>\n",
              "      <td>0.467377</td>\n",
              "      <td>-23.443264</td>\n",
              "      <td>305</td>\n",
              "      <td>0</td>\n",
              "      <td>1</td>\n",
              "    </tr>\n",
              "    <tr>\n",
              "      <th>4</th>\n",
              "      <td>23.637993</td>\n",
              "      <td>0.130217</td>\n",
              "      <td>18.551594</td>\n",
              "      <td>25.037369</td>\n",
              "      <td>26.020950</td>\n",
              "      <td>7.469356</td>\n",
              "      <td>40.880257</td>\n",
              "      <td>21.864357</td>\n",
              "      <td>4.867825</td>\n",
              "      <td>10.950583</td>\n",
              "      <td>...</td>\n",
              "      <td>1.754386</td>\n",
              "      <td>2.409639</td>\n",
              "      <td>0.112500</td>\n",
              "      <td>0.078859</td>\n",
              "      <td>0.224000</td>\n",
              "      <td>0.308649</td>\n",
              "      <td>-31.355045</td>\n",
              "      <td>305</td>\n",
              "      <td>0</td>\n",
              "      <td>1</td>\n",
              "    </tr>\n",
              "  </tbody>\n",
              "</table>\n",
              "<p>5 rows × 91 columns</p>\n",
              "</div>"
            ],
            "text/plain": [
              "   F0semitoneFrom27.5Hz_sma3nz_amean  F0semitoneFrom27.5Hz_sma3nz_stddevNorm  \\\n",
              "0                          32.160255                                0.200581   \n",
              "1                          28.780031                                0.074786   \n",
              "2                          29.038708                                0.144522   \n",
              "3                          24.198637                                0.077389   \n",
              "4                          23.637993                                0.130217   \n",
              "\n",
              "   F0semitoneFrom27.5Hz_sma3nz_percentile20.0  \\\n",
              "0                                   23.145561   \n",
              "1                                   27.129395   \n",
              "2                                   25.411283   \n",
              "3                                   22.477812   \n",
              "4                                   18.551594   \n",
              "\n",
              "   F0semitoneFrom27.5Hz_sma3nz_percentile50.0  \\\n",
              "0                                   35.632530   \n",
              "1                                   28.150295   \n",
              "2                                   25.819115   \n",
              "3                                   24.032180   \n",
              "4                                   25.037369   \n",
              "\n",
              "   F0semitoneFrom27.5Hz_sma3nz_percentile80.0  \\\n",
              "0                                   36.815937   \n",
              "1                                   31.058764   \n",
              "2                                   34.090847   \n",
              "3                                   25.971500   \n",
              "4                                   26.020950   \n",
              "\n",
              "   F0semitoneFrom27.5Hz_sma3nz_pctlrange0-2  \\\n",
              "0                                 13.670376   \n",
              "1                                  3.929369   \n",
              "2                                  8.679564   \n",
              "3                                  3.493689   \n",
              "4                                  7.469356   \n",
              "\n",
              "   F0semitoneFrom27.5Hz_sma3nz_meanRisingSlope  \\\n",
              "0                                   -65.049820   \n",
              "1                                    52.741413   \n",
              "2                                    65.176770   \n",
              "3                                   106.853410   \n",
              "4                                    40.880257   \n",
              "\n",
              "   F0semitoneFrom27.5Hz_sma3nz_stddevRisingSlope  \\\n",
              "0                                       0.000000   \n",
              "1                                      13.374495   \n",
              "2                                       0.000000   \n",
              "3                                     211.200330   \n",
              "4                                      21.864357   \n",
              "\n",
              "   F0semitoneFrom27.5Hz_sma3nz_meanFallingSlope  \\\n",
              "0                                     28.641510   \n",
              "1                                      3.220003   \n",
              "2                                    -13.047282   \n",
              "3                                     14.058883   \n",
              "4                                      4.867825   \n",
              "\n",
              "   F0semitoneFrom27.5Hz_sma3nz_stddevFallingSlope  ...  loudnessPeaksPerSec  \\\n",
              "0                                        0.000000  ...             0.840336   \n",
              "1                                        4.861248  ...             3.070175   \n",
              "2                                        0.000000  ...             1.190476   \n",
              "3                                        9.024993  ...             2.503682   \n",
              "4                                       10.950583  ...             1.754386   \n",
              "\n",
              "   VoicedSegmentsPerSec  MeanVoicedSegmentLengthSec  \\\n",
              "0              1.754386                    0.145000   \n",
              "1              3.139013                    0.170000   \n",
              "2              2.531646                    0.075000   \n",
              "3              1.699926                    0.166087   \n",
              "4              2.409639                    0.112500   \n",
              "\n",
              "   StddevVoicedSegmentLengthSec  MeanUnvoicedSegmentLength  \\\n",
              "0                      0.065000                   0.266667   \n",
              "1                      0.140712                   0.145000   \n",
              "2                      0.015000                   0.196667   \n",
              "3                      0.145086                   0.385000   \n",
              "4                      0.078859                   0.224000   \n",
              "\n",
              "   StddevUnvoicedSegmentLength  equivalentSoundLevel_dBp  participant_id  \\\n",
              "0                     0.164384                -24.856180             305   \n",
              "1                     0.123119                -20.882643             305   \n",
              "2                     0.110252                -21.540741             305   \n",
              "3                     0.467377                -23.443264             305   \n",
              "4                     0.308649                -31.355045             305   \n",
              "\n",
              "   depression  gender  \n",
              "0           0       1  \n",
              "1           0       1  \n",
              "2           0       1  \n",
              "3           0       1  \n",
              "4           0       1  \n",
              "\n",
              "[5 rows x 91 columns]"
            ]
          },
          "execution_count": 38,
          "metadata": {},
          "output_type": "execute_result"
        }
      ],
      "source": [
        "test_data_no_duplicates.head()"
      ]
    },
    {
      "cell_type": "markdown",
      "metadata": {
        "id": "RxjiDsAhZ6Mk"
      },
      "source": [
        "## Outlier Handling"
      ]
    },
    {
      "cell_type": "code",
      "execution_count": null,
      "metadata": {
        "id": "hsLqIQl7Z6Mk"
      },
      "outputs": [],
      "source": []
    },
    {
      "cell_type": "code",
      "execution_count": null,
      "metadata": {
        "id": "SqYEIhA1Z6Mk",
        "outputId": "8b859300-e944-42ca-99d9-7950c77f1263"
      },
      "outputs": [
        {
          "data": {
            "text/plain": [
              "(9185, 91)"
            ]
          },
          "execution_count": 39,
          "metadata": {},
          "output_type": "execute_result"
        }
      ],
      "source": [
        "\n",
        "# Handling outliers by computing Z-scores and filtering out extreme values\n",
        "from scipy.stats import zscore\n",
        "\n",
        "# Calculate Z-scores of all columns\n",
        "z_scores = zscore(temp.select_dtypes(include=[float]))\n",
        "\n",
        "# Filter the data: Remove rows where any column has a Z-score greater than 3 or less than -3\n",
        "data_cleaned = temp[(abs(z_scores) < 3).all(axis=1)]\n",
        "\n",
        "data_cleaned.shape\n"
      ]
    },
    {
      "cell_type": "code",
      "execution_count": null,
      "metadata": {
        "id": "vk8qnGztZ6Ml",
        "outputId": "79c85288-b31c-4666-a1b3-a33e77f2f813"
      },
      "outputs": [
        {
          "data": {
            "text/plain": [
              "(2115, 91)"
            ]
          },
          "execution_count": 40,
          "metadata": {},
          "output_type": "execute_result"
        }
      ],
      "source": [
        "\n",
        "# Handling outliers by computing Z-scores and filtering out extreme values\n",
        "from scipy.stats import zscore\n",
        "\n",
        "# Calculate Z-scores of all columns\n",
        "test_z_scores = zscore(test_temp.select_dtypes(include=[float]))\n",
        "\n",
        "# Filter the data: Remove rows where any column has a Z-score greater than 3 or less than -3\n",
        "test_data_cleaned = test_temp[(abs(test_z_scores) < 3).all(axis=1)]\n",
        "\n",
        "test_data_cleaned.shape\n"
      ]
    },
    {
      "cell_type": "code",
      "execution_count": null,
      "metadata": {
        "id": "JZH9e3TqZ6Ml"
      },
      "outputs": [],
      "source": []
    },
    {
      "cell_type": "markdown",
      "metadata": {
        "id": "ilaUv9EdZ6Ml"
      },
      "source": [
        "## Depression Classification\n",
        "* 1- male\n",
        "* 0- female"
      ]
    },
    {
      "cell_type": "code",
      "execution_count": null,
      "metadata": {
        "id": "WSA9gg5VZ6Ml",
        "outputId": "dffa7940-c13c-4d99-df65-c9de7b0e0865"
      },
      "outputs": [
        {
          "name": "stdout",
          "output_type": "stream",
          "text": [
            "Overall Accuracy (A): 0.8620689655172413\n",
            "Overall Balanced Accuracy (BA): 0.75\n",
            "Female Accuracy: 0.8888888888888888\n",
            "Female Balanced Accuracy: 0.8333333333333333\n",
            "Male Accuracy: 0.8431372549019608\n",
            "Male Balanced Accuracy: 0.6666666666666666\n",
            "Equality of Opportunity (EO): 0.6666666666666667\n"
          ]
        }
      ],
      "source": [
        "\n",
        "data = data_cleaned\n",
        "\n",
        "# Prepare feature matrix X and target vector y\n",
        "X = data.drop(['participant_id', 'depression', 'gender'], axis=1)\n",
        "y = data['depression']\n",
        "\n",
        "participant_ids = data['participant_id']\n",
        "genders = data['gender']\n",
        "\n",
        "# Split data into training and testing sets\n",
        "X_train, X_test, y_train, y_test = train_test_split(X, y, test_size=0.2, stratify=y, random_state=42)\n",
        "participants_train = participant_ids[X_train.index]\n",
        "participants_test = participant_ids[X_test.index]\n",
        "genders_test = genders[X_test.index]\n",
        "\n",
        "# Initialize the classifier\n",
        "classifier = RandomForestClassifier(random_state=42)\n",
        "classifier.fit(X_train, y_train)\n",
        "\n",
        "# Predict on the test data using predict_proba for more granular control\n",
        "y_pred_prob = classifier.predict_proba(X_test)[:, 1]\n",
        "\n",
        "# Aggregate the predictions to the participant level\n",
        "participants_results = pd.DataFrame({\n",
        "    'participant_id': participants_test,\n",
        "    'true_label': y_test,\n",
        "    'predicted_prob': y_pred_prob,\n",
        "    'gender': genders_test\n",
        "})\n",
        "participants_results_grouped = participants_results.groupby('participant_id').agg({\n",
        "    'true_label': 'first',  # Assumes that the 'true_label' is the same for all turns of a participant\n",
        "    'predicted_prob': 'mean',  # Average prediction probability per participant\n",
        "    'gender': 'first'  # Gender is the same for all turns of a participant\n",
        "})\n",
        "\n",
        "# Threshold the predictions at 0.5 for classification\n",
        "participants_results_grouped['final_prediction'] = (participants_results_grouped['predicted_prob'] >= 0.5).astype(int)\n",
        "\n",
        "# Calculate the metrics\n",
        "accuracy_A = accuracy_score(participants_results_grouped['true_label'], participants_results_grouped['final_prediction'])\n",
        "balanced_accuracy_BA = balanced_accuracy_score(participants_results_grouped['true_label'], participants_results_grouped['final_prediction'])\n",
        "\n",
        "# Separate the data for female and male participants\n",
        "female_data = participants_results_grouped[participants_results_grouped['gender'] == 0]\n",
        "male_data = participants_results_grouped[participants_results_grouped['gender'] == 1]\n",
        "\n",
        "# Calculate the metrics for female and male participants\n",
        "accuracy_female = accuracy_score(female_data['true_label'], female_data['final_prediction'])\n",
        "balanced_accuracy_female = balanced_accuracy_score(female_data['true_label'], female_data['final_prediction'])\n",
        "accuracy_male = accuracy_score(male_data['true_label'], male_data['final_prediction'])\n",
        "balanced_accuracy_male = balanced_accuracy_score(male_data['true_label'], male_data['final_prediction'])\n",
        "\n",
        "# Calculate Equality of Opportunity (EO)\n",
        "conf_matrix_female = confusion_matrix(female_data['true_label'], female_data['final_prediction'])\n",
        "conf_matrix_male = confusion_matrix(male_data['true_label'], male_data['final_prediction'])\n",
        "tpr_female = conf_matrix_female[1, 1] / (conf_matrix_female[1, :].sum() if conf_matrix_female[1, :].sum() != 0 else 1)\n",
        "tpr_male = conf_matrix_male[1, 1] / (conf_matrix_male[1, :].sum() if conf_matrix_male[1, :].sum() != 0 else 1)\n",
        "EO = 1 - abs(tpr_male - tpr_female)\n",
        "\n",
        "# Print the metrics\n",
        "print(f'Overall Accuracy (A): {accuracy_A}')\n",
        "print(f'Overall Balanced Accuracy (BA): {balanced_accuracy_BA}')\n",
        "print(f'Female Accuracy: {accuracy_female}')\n",
        "print(f'Female Balanced Accuracy: {balanced_accuracy_female}')\n",
        "print(f'Male Accuracy: {accuracy_male}')\n",
        "print(f'Male Balanced Accuracy: {balanced_accuracy_male}')\n",
        "print(f'Equality of Opportunity (EO): {EO}')\n"
      ]
    },
    {
      "cell_type": "markdown",
      "metadata": {
        "id": "615AykZ5Z6Ml"
      },
      "source": [
        "## Using test data for predictions"
      ]
    },
    {
      "cell_type": "code",
      "execution_count": null,
      "metadata": {
        "id": "l86WXFSdZ6Ml",
        "outputId": "dd73d8b6-e01d-47fe-8853-91a7b396c2df"
      },
      "outputs": [
        {
          "name": "stdout",
          "output_type": "stream",
          "text": [
            "Overall Accuracy (A): 0.7\n",
            "Overall Balanced Accuracy (BA): 0.5\n",
            "Female Accuracy: 0.375\n",
            "Female Balanced Accuracy: 0.5\n",
            "Male Accuracy: 0.9166666666666666\n",
            "Male Balanced Accuracy: 0.5\n",
            "Equality of Opportunity (EO): 1.0\n"
          ]
        }
      ],
      "source": [
        "\n",
        "test_data = test_data_cleaned\n",
        "\n",
        "# Prepare the feature matrix X_test and vectors for participant_id and gender\n",
        "X_test = test_data.drop(['participant_id', 'depression', 'gender'], axis=1)\n",
        "y_test = test_data['depression']\n",
        "participants_test = test_data['participant_id']\n",
        "genders_test = test_data['gender']\n",
        "\n",
        "# Predict on the test data using predict_proba for more granular control\n",
        "y_pred_prob = classifier.predict_proba(X_test)[:, 1]\n",
        "\n",
        "# Aggregate the predictions to the participant level\n",
        "participants_results = pd.DataFrame({\n",
        "    'participant_id': participants_test,\n",
        "    'true_label': y_test,\n",
        "    'predicted_prob': y_pred_prob,\n",
        "    'gender': genders_test\n",
        "})\n",
        "participants_results_grouped = participants_results.groupby('participant_id').agg({\n",
        "    'true_label': 'first',  # Assumes that the 'true_label' is the same for all instances of a participant\n",
        "    'predicted_prob': 'mean',  # Average prediction probability per participant\n",
        "    'gender': 'first'  # Gender is the same for all instances of a participant\n",
        "})\n",
        "\n",
        "# Threshold the predictions at 0.5 for classification\n",
        "participants_results_grouped['final_prediction'] = (participants_results_grouped['predicted_prob'] >= 0.5).astype(int)\n",
        "\n",
        "# Calculate the metrics\n",
        "accuracy_A = accuracy_score(participants_results_grouped['true_label'], participants_results_grouped['final_prediction'])\n",
        "balanced_accuracy_BA = balanced_accuracy_score(participants_results_grouped['true_label'], participants_results_grouped['final_prediction'])\n",
        "\n",
        "# Separate the data for female and male participants\n",
        "female_data = participants_results_grouped[participants_results_grouped['gender'] == 0]\n",
        "male_data = participants_results_grouped[participants_results_grouped['gender'] == 1]\n",
        "\n",
        "# Calculate the metrics for female and male participants\n",
        "accuracy_female = accuracy_score(female_data['true_label'], female_data['final_prediction'])\n",
        "balanced_accuracy_female = balanced_accuracy_score(female_data['true_label'], female_data['final_prediction'])\n",
        "accuracy_male = accuracy_score(male_data['true_label'], male_data['final_prediction'])\n",
        "balanced_accuracy_male = balanced_accuracy_score(male_data['true_label'], male_data['final_prediction'])\n",
        "\n",
        "# Calculate Equality of Opportunity (EO)\n",
        "conf_matrix_female = confusion_matrix(female_data['true_label'], female_data['final_prediction'])\n",
        "conf_matrix_male = confusion_matrix(male_data['true_label'], male_data['final_prediction'])\n",
        "tpr_female = conf_matrix_female[1, 1] / (conf_matrix_female[1, :].sum() if conf_matrix_female[1, :].sum() != 0 else 1)\n",
        "tpr_male = conf_matrix_male[1, 1] / (conf_matrix_male[1, :].sum() if conf_matrix_male[1, :].sum() != 0 else 1)\n",
        "EO = 1 - abs(tpr_male - tpr_female)\n",
        "\n",
        "# Print the metrics\n",
        "print(f'Overall Accuracy (A): {accuracy_A}')\n",
        "print(f'Overall Balanced Accuracy (BA): {balanced_accuracy_BA}')\n",
        "print(f'Female Accuracy: {accuracy_female}')\n",
        "print(f'Female Balanced Accuracy: {balanced_accuracy_female}')\n",
        "print(f'Male Accuracy: {accuracy_male}')\n",
        "print(f'Male Balanced Accuracy: {balanced_accuracy_male}')\n",
        "print(f'Equality of Opportunity (EO): {EO}')\n"
      ]
    },
    {
      "cell_type": "code",
      "execution_count": null,
      "metadata": {
        "id": "lFsAroSTZ6Mm"
      },
      "outputs": [],
      "source": []
    },
    {
      "cell_type": "code",
      "execution_count": null,
      "metadata": {
        "id": "8HKb6q77Z6Mm"
      },
      "outputs": [],
      "source": []
    },
    {
      "cell_type": "markdown",
      "metadata": {
        "id": "flhEWq1nZ6Mm"
      },
      "source": [
        "## Gender Classification"
      ]
    },
    {
      "cell_type": "code",
      "execution_count": null,
      "metadata": {
        "id": "9drOexZpZ6Mm",
        "outputId": "da7cdcbd-f597-4437-8d66-38caebc64aa3"
      },
      "outputs": [
        {
          "data": {
            "text/plain": [
              "(1.0, 1.0)"
            ]
          },
          "execution_count": 43,
          "metadata": {},
          "output_type": "execute_result"
        }
      ],
      "source": [
        "# Prepare data for gender classification\n",
        "\n",
        "X_gender = data_cleaned.drop(columns=['depression', 'gender', 'participant_id'])\n",
        "y_gender = data_cleaned['gender']\n",
        "\n",
        "# Splitting the data for gender classification\n",
        "X_train_gender, X_test_gender, y_train_gender, y_test_gender = train_test_split(\n",
        "    X_gender, y_gender, test_size=0.2, random_state=42, stratify=y_gender)\n",
        "\n",
        "# Keeping participant ID for test set to aggregate results later\n",
        "participants_test_gender = data_cleaned.loc[X_test_gender.index, 'participant_id']\n",
        "\n",
        "# Training a Random Forest Classifier for gender classification\n",
        "gender_classifier = RandomForestClassifier(random_state=42)\n",
        "gender_classifier.fit(X_train_gender, y_train_gender)\n",
        "\n",
        "# Predicting gender on the test data\n",
        "y_pred_gender = gender_classifier.predict_proba(X_test_gender)[:, 1]\n",
        "\n",
        "# Creating DataFrame to aggregate predictions to the participant level\n",
        "participants_gender_results = pd.DataFrame({\n",
        "    'participant_id': participants_test_gender,\n",
        "    'true_label': y_test_gender,\n",
        "    'predicted_prob': y_pred_gender\n",
        "})\n",
        "\n",
        "# Grouping by participant_id and aggregating predictions\n",
        "participants_gender_results_grouped = participants_gender_results.groupby('participant_id').agg({\n",
        "    'true_label': 'first',  # Assumes the 'true_label' is the same for all turns of a participant\n",
        "    'predicted_prob': 'mean'  # Average prediction probability per participant\n",
        "})\n",
        "\n",
        "# Thresholding the average predictions to make a final gender prediction\n",
        "participants_gender_results_grouped['final_prediction'] = (participants_gender_results_grouped['predicted_prob'] >= 0.5).astype(int)\n",
        "\n",
        "# Calculating the accuracy and balanced accuracy at the participant level\n",
        "accuracy_A_gender = accuracy_score(participants_gender_results_grouped['true_label'], participants_gender_results_grouped['final_prediction'])\n",
        "balanced_accuracy_BA_gender = balanced_accuracy_score(participants_gender_results_grouped['true_label'], participants_gender_results_grouped['final_prediction'])\n",
        "\n",
        "accuracy_A_gender, balanced_accuracy_BA_gender\n"
      ]
    },
    {
      "cell_type": "code",
      "execution_count": null,
      "metadata": {
        "id": "hlGkBre9Z6Mm"
      },
      "outputs": [],
      "source": []
    },
    {
      "cell_type": "markdown",
      "metadata": {
        "id": "0bLDNG7WZ6Mm"
      },
      "source": [
        "## Using test data for predictions"
      ]
    },
    {
      "cell_type": "code",
      "execution_count": null,
      "metadata": {
        "id": "tMO2ATMwZ6Mm",
        "outputId": "b004c00b-0769-487c-84cf-43ff85d24a6b"
      },
      "outputs": [
        {
          "name": "stdout",
          "output_type": "stream",
          "text": [
            "Accuracy (A) for Gender Classification: 1.0\n",
            "Balanced Accuracy (BA) for Gender Classification: 1.0\n"
          ]
        }
      ],
      "source": [
        "\n",
        "X_test_gender = test_data.drop(columns=['depression', 'gender', 'participant_id'])\n",
        "y_test_gender = test_data['gender']\n",
        "participants_test_gender = test_data['participant_id']\n",
        "\n",
        "\n",
        "# Predicting gender on the test data using predict_proba for more granular control\n",
        "y_pred_gender = gender_classifier.predict_proba(X_test_gender)[:, 1]\n",
        "\n",
        "# Creating DataFrame to aggregate predictions to the participant level\n",
        "participants_gender_results = pd.DataFrame({\n",
        "    'participant_id': participants_test_gender,\n",
        "    'true_label': y_test_gender,\n",
        "    'predicted_prob': y_pred_gender\n",
        "})\n",
        "\n",
        "# Grouping by participant_id and aggregating predictions\n",
        "participants_gender_results_grouped = participants_gender_results.groupby('participant_id').agg({\n",
        "    'true_label': 'first',  # Assumes the 'true_label' is the same for all instances of a participant\n",
        "    'predicted_prob': 'mean'  # Average prediction probability per participant\n",
        "})\n",
        "\n",
        "# Thresholding the average predictions to make a final gender prediction\n",
        "participants_gender_results_grouped['final_prediction'] = (participants_gender_results_grouped['predicted_prob'] >= 0.5).astype(int)\n",
        "\n",
        "# Calculating the accuracy and balanced accuracy at the participant level\n",
        "accuracy_A_gender = accuracy_score(participants_gender_results_grouped['true_label'], participants_gender_results_grouped['final_prediction'])\n",
        "balanced_accuracy_BA_gender = balanced_accuracy_score(participants_gender_results_grouped['true_label'], participants_gender_results_grouped['final_prediction'])\n",
        "\n",
        "# Print the metrics\n",
        "print(f'Accuracy (A) for Gender Classification: {accuracy_A_gender}')\n",
        "print(f'Balanced Accuracy (BA) for Gender Classification: {balanced_accuracy_BA_gender}')\n"
      ]
    },
    {
      "cell_type": "code",
      "execution_count": null,
      "metadata": {
        "id": "c7vA6M1UZ6Mm"
      },
      "outputs": [],
      "source": []
    },
    {
      "cell_type": "code",
      "execution_count": null,
      "metadata": {
        "id": "-JKw6yhkZ6Mm"
      },
      "outputs": [],
      "source": []
    },
    {
      "cell_type": "markdown",
      "metadata": {
        "id": "JCzVNAfRZ6Mn"
      },
      "source": [
        "## b->  most informative features for depression"
      ]
    },
    {
      "cell_type": "code",
      "execution_count": null,
      "metadata": {
        "id": "xQthLLl2Z6Mn"
      },
      "outputs": [],
      "source": []
    },
    {
      "cell_type": "code",
      "execution_count": null,
      "metadata": {
        "id": "WZ1hI8tZZ6Mn",
        "outputId": "b267ae66-5721-41ff-9b6e-a354f6bbcc63"
      },
      "outputs": [
        {
          "data": {
            "image/png": "[encoded data removed]",
            "text/plain": [
              "<Figure size 1200x600 with 1 Axes>"
            ]
          },
          "metadata": {},
          "output_type": "display_data"
        }
      ],
      "source": [
        "\n",
        "# Define the range of 'n' features to be selected\n",
        "n_features_list = list(range(10, 51, 5))\n",
        "\n",
        "# Initialize lists to store metrics for plotting\n",
        "overall_accuracies = []\n",
        "overall_balanced_accuracies = []\n",
        "female_accuracies = []\n",
        "male_accuracies = []\n",
        "EOs = []\n",
        "\n",
        "# Loop over desired numbers of features\n",
        "for n_features in n_features_list:\n",
        "    # Select top 'n_features' features based on ANOVA F-test\n",
        "    selector = SelectKBest(f_classif, k=n_features)\n",
        "    X_train_selected = selector.fit_transform(X_train, y_train)\n",
        "    X_test_selected = selector.transform(X_test)\n",
        "\n",
        "    # Train the classifier using the selected features\n",
        "    classifier = RandomForestClassifier(random_state=42)\n",
        "    classifier.fit(X_train_selected, y_train)\n",
        "\n",
        "    # Predict on the test data using the selected features\n",
        "    y_pred = classifier.predict(X_test_selected)\n",
        "\n",
        "    # Aggregate predictions to the participant level\n",
        "    participants_results = pd.DataFrame({\n",
        "        'participant_id': participants_test,\n",
        "        'true_label': y_test,\n",
        "        'predicted_label': y_pred,\n",
        "        'gender': genders_test\n",
        "    })\n",
        "    participants_results_grouped = participants_results.groupby('participant_id').agg({\n",
        "        'true_label': 'max',\n",
        "        'predicted_label': 'mean',\n",
        "        'gender': 'first'\n",
        "    })\n",
        "    participants_results_grouped['final_prediction'] = (participants_results_grouped['predicted_label'] >= 0.5).astype(int)\n",
        "\n",
        "    # Compute the metrics at the participant level\n",
        "    accuracy_A = accuracy_score(participants_results_grouped['true_label'], participants_results_grouped['final_prediction'])\n",
        "    balanced_accuracy_BA = balanced_accuracy_score(participants_results_grouped['true_label'], participants_results_grouped['final_prediction'])\n",
        "\n",
        "    # Store the overall metrics\n",
        "    overall_accuracies.append(accuracy_A)\n",
        "    overall_balanced_accuracies.append(balanced_accuracy_BA)\n",
        "\n",
        "    # Compute and store gender-specific metrics\n",
        "    female_data = participants_results_grouped[participants_results_grouped['gender'] == 0]\n",
        "    male_data = participants_results_grouped[participants_results_grouped['gender'] == 1]\n",
        "    female_accuracies.append(accuracy_score(female_data['true_label'], female_data['final_prediction']))\n",
        "    male_accuracies.append(accuracy_score(male_data['true_label'], male_data['final_prediction']))\n",
        "\n",
        "    # Compute EO\n",
        "    cm_female = confusion_matrix(female_data['true_label'], female_data['final_prediction'])\n",
        "    cm_male = confusion_matrix(male_data['true_label'], male_data['final_prediction'])\n",
        "    tpr_female = cm_female[1, 1] / (cm_female[1, 1] + cm_female[1, 0])\n",
        "    tpr_male = cm_male[1, 1] / (cm_male[1, 1] + cm_male[1, 0])\n",
        "    EO = 1 - abs(tpr_female - tpr_male)\n",
        "    EOs.append(EO)\n",
        "\n",
        "# Plotting the results\n",
        "plt.figure(figsize=(12, 6))\n",
        "\n",
        "plt.plot(n_features_list, overall_accuracies, label='Overall Accuracy')\n",
        "plt.plot(n_features_list, overall_balanced_accuracies, label='Overall Balanced Accuracy')\n",
        "plt.plot(n_features_list, female_accuracies, label='Female Accuracy')\n",
        "plt.plot(n_features_list, male_accuracies, label='Male Accuracy')\n",
        "plt.plot(n_features_list, EOs, label='Equality of Opportunity', linestyle='--')\n",
        "\n",
        "plt.xlabel('Number of Features Selected')\n",
        "plt.ylabel('Metric Value')\n",
        "plt.title('Classification Performance vs. Number of Features')\n",
        "plt.legend(loc='best')\n",
        "plt.grid(True)\n",
        "plt.show()\n"
      ]
    },
    {
      "cell_type": "markdown",
      "metadata": {
        "id": "wtOdLAB0Z6Mn"
      },
      "source": [
        "## c--> Finding the most informative features for gender."
      ]
    },
    {
      "cell_type": "code",
      "execution_count": null,
      "metadata": {
        "id": "80k1hFdjZ6Mn"
      },
      "outputs": [],
      "source": []
    },
    {
      "cell_type": "code",
      "execution_count": null,
      "metadata": {
        "id": "P4qhNSFGZ6Mn",
        "outputId": "8cd48777-cd5a-43a5-d975-6c75138c72e8"
      },
      "outputs": [
        {
          "data": {
            "image/png": "[encoded data removed]",
            "text/plain": [
              "<Figure size 1000x500 with 1 Axes>"
            ]
          },
          "metadata": {},
          "output_type": "display_data"
        },
        {
          "name": "stdout",
          "output_type": "stream",
          "text": [
            "The 20 features most indicative of gender:\n",
            "['F0semitoneFrom27.5Hz_sma3nz_amean', 'F0semitoneFrom27.5Hz_sma3nz_percentile20.0', 'F0semitoneFrom27.5Hz_sma3nz_percentile50.0', 'F0semitoneFrom27.5Hz_sma3nz_percentile80.0', 'mfcc4_sma3_amean', 'jitterLocal_sma3nz_stddevNorm', 'shimmerLocaldB_sma3nz_stddevNorm', 'HNRdBACF_sma3nz_amean', 'F1frequency_sma3nz_amean', 'F1frequency_sma3nz_stddevNorm', 'F1bandwidth_sma3nz_amean', 'F2frequency_sma3nz_amean', 'F2frequency_sma3nz_stddevNorm', 'F3frequency_sma3nz_amean', 'F3frequency_sma3nz_stddevNorm', 'slopeV0-500_sma3nz_amean', 'mfcc1V_sma3nz_amean', 'mfcc3V_sma3nz_amean', 'mfcc4V_sma3nz_amean', 'slopeUV0-500_sma3nz_amean']\n"
          ]
        }
      ],
      "source": [
        "import pandas as pd\n",
        "from sklearn.model_selection import train_test_split\n",
        "from sklearn.feature_selection import SelectKBest, f_classif\n",
        "from sklearn.ensemble import RandomForestClassifier\n",
        "from sklearn.metrics import accuracy_score, balanced_accuracy_score, confusion_matrix\n",
        "import matplotlib.pyplot as plt\n",
        "\n",
        "\n",
        "data = data_cleaned\n",
        "X = data.drop(['gender', 'participant_id'], axis=1)\n",
        "y_gender = data['gender']\n",
        "participants = data['participant_id']\n",
        "\n",
        "# Split data into training and test sets, ensuring participants are also tracked\n",
        "X_train, X_test, y_train_gender, y_test_gender, participants_train, participants_test = train_test_split(\n",
        "    X, y_gender, participants, test_size=0.2, random_state=42, stratify=y_gender)\n",
        "\n",
        "# Define range of 'm' features\n",
        "m_features_list = list(range(5, 31, 5))\n",
        "\n",
        "# Initialize lists to store metrics for plotting\n",
        "accuracies = []\n",
        "balanced_accuracies = []\n",
        "male_accuracies = []\n",
        "female_accuracies = []\n",
        "EOs = []\n",
        "\n",
        "for m_features in m_features_list:\n",
        "    selector = SelectKBest(f_classif, k=m_features)\n",
        "    X_train_selected = selector.fit_transform(X_train, y_train_gender)\n",
        "    X_test_selected = selector.transform(X_test)\n",
        "\n",
        "    classifier = RandomForestClassifier(random_state=42)\n",
        "    classifier.fit(X_train_selected, y_train_gender)\n",
        "    y_pred_gender = classifier.predict(X_test_selected)\n",
        "\n",
        "    # Create DataFrame\n",
        "    participants_gender_results = pd.DataFrame({\n",
        "        'participant_id': participants_test.reset_index(drop=True),  # Reset index if necessary\n",
        "        'true_gender_label': y_test_gender.reset_index(drop=True),\n",
        "        'predicted_gender_label': y_pred_gender,\n",
        "        'gender': y_test_gender.reset_index(drop=True)  # Include actual gender labels for EO calculation\n",
        "    })\n",
        "\n",
        "    # Aggregate predictions at the participant level\n",
        "    participants_gender_grouped = participants_gender_results.groupby('participant_id').agg({\n",
        "        'true_gender_label': 'max',  # Assuming gender is consistent within participants\n",
        "        'predicted_gender_label': 'mean',  # Average prediction score per participant\n",
        "        'gender': 'first'  # Gender should be consistent within grouped data\n",
        "    })\n",
        "    participants_gender_grouped['final_prediction'] = (participants_gender_grouped['predicted_gender_label'] >= 0.5).astype(int)\n",
        "\n",
        "    # Compute metrics\n",
        "    accuracy = accuracy_score(participants_gender_grouped['true_gender_label'], participants_gender_grouped['final_prediction'])\n",
        "    balanced_accuracy = balanced_accuracy_score(participants_gender_grouped['true_gender_label'], participants_gender_grouped['final_prediction'])\n",
        "    accuracies.append(accuracy)\n",
        "    balanced_accuracies.append(balanced_accuracy)\n",
        "\n",
        "    # Compute gender-specific accuracies\n",
        "    male_data = participants_gender_grouped[participants_gender_grouped['gender'] == 1]  # Assuming 1 is male\n",
        "    female_data = participants_gender_grouped[participants_gender_grouped['gender'] == 0]  # Assuming 0 is female\n",
        "    male_accuracy = accuracy_score(male_data['true_gender_label'], male_data['final_prediction'])\n",
        "    female_accuracy = accuracy_score(female_data['true_gender_label'], female_data['final_prediction'])\n",
        "    male_accuracies.append(male_accuracy)\n",
        "    female_accuracies.append(female_accuracy)\n",
        "\n",
        "    # Compute Equality of Opportunity (EO)\n",
        "    cm_male = confusion_matrix(male_data['true_gender_label'], male_data['final_prediction'])\n",
        "    cm_female = confusion_matrix(female_data['true_gender_label'], female_data['final_prediction'])\n",
        "\n",
        "        # Compute Equality of Opportunity (EO)\n",
        "    if len(cm_male) > 1:\n",
        "        tpr_male = cm_male[1, 1] / cm_male[1, :].sum() if cm_male[1, :].sum() else 0\n",
        "    else:\n",
        "        tpr_male = 0  # Assuming no positive predictions if the second row is missing\n",
        "\n",
        "    if len(cm_female) > 1:\n",
        "        tpr_female = cm_female[1, 1] / cm_female[1, :].sum() if cm_female[1, :].sum() else 0\n",
        "    else:\n",
        "        tpr_female = 0  # Assuming no positive predictions if the second row is missing\n",
        "\n",
        "    EO = 1 - abs(tpr_male - tpr_female)\n",
        "\n",
        "# Plotting the results\n",
        "plt.figure(figsize=(10, 5))\n",
        "plt.plot(m_features_list, accuracies, label='Overall Accuracy')\n",
        "plt.plot(m_features_list, balanced_accuracies, label='Balanced Accuracy')\n",
        "plt.plot(m_features_list, male_accuracies, label='Male Accuracy')\n",
        "plt.plot(m_features_list, female_accuracies, label='Female Accuracy')\n",
        "# plt.plot(m_features_list, EOs, label='Equality of Opportunity', linestyle='--')\n",
        "plt.xlabel('Number of Features Selected')\n",
        "plt.ylabel('Metric Value')\n",
        "plt.title('Gender Classification Performance vs. Number of Features')\n",
        "plt.legend(loc='best')\n",
        "plt.grid(True)\n",
        "plt.show()\n",
        "\n",
        "# Reporting the 20 most indicative features of gender\n",
        "selector = SelectKBest(f_classif, k=20)\n",
        "X_train_selected = selector.fit_transform(X_train, y_train_gender)\n",
        "selected_features_indices = selector.get_support(indices=True)\n",
        "selected_features = [X_train.columns[i] for i in selected_features_indices]\n",
        "\n",
        "print(\"The 20 features most indicative of gender:\")\n",
        "print(selected_features)\n"
      ]
    },
    {
      "cell_type": "code",
      "execution_count": null,
      "metadata": {
        "id": "6GEHqdn6Z6Mn"
      },
      "outputs": [],
      "source": [
        "# Compute the correlation matrix\n",
        "corr_matrix = X_train.corrwith(y_train_gender).abs()"
      ]
    },
    {
      "cell_type": "code",
      "execution_count": null,
      "metadata": {
        "id": "p5N9aarQZ6Mo",
        "outputId": "54362f43-28ad-45a1-e941-313f6f61d616"
      },
      "outputs": [
        {
          "name": "stdout",
          "output_type": "stream",
          "text": [
            "Top 20 features most indicative of gender based on correlation:\n",
            "['F0semitoneFrom27.5Hz_sma3nz_percentile20.0', 'F0semitoneFrom27.5Hz_sma3nz_percentile50.0', 'F0semitoneFrom27.5Hz_sma3nz_amean', 'F0semitoneFrom27.5Hz_sma3nz_percentile80.0', 'HNRdBACF_sma3nz_amean', 'slopeV0-500_sma3nz_amean', 'mfcc4V_sma3nz_amean', 'F2frequency_sma3nz_amean', 'mfcc4_sma3_amean', 'F1frequency_sma3nz_stddevNorm', 'F3frequency_sma3nz_amean', 'jitterLocal_sma3nz_stddevNorm', 'F1frequency_sma3nz_amean', 'F1bandwidth_sma3nz_amean', 'F2frequency_sma3nz_stddevNorm', 'F3frequency_sma3nz_stddevNorm', 'slopeUV0-500_sma3nz_amean', 'shimmerLocaldB_sma3nz_stddevNorm', 'mfcc3V_sma3nz_amean', 'mfcc1V_sma3nz_amean']\n"
          ]
        }
      ],
      "source": [
        "# Select the top 20 most correlated features\n",
        "selected_top_features = corr_matrix.sort_values(ascending=False).head(20).index.tolist()\n",
        "print(\"Top 20 features most indicative of gender based on correlation:\")\n",
        "print(selected_top_features)"
      ]
    },
    {
      "cell_type": "code",
      "execution_count": null,
      "metadata": {
        "id": "c8eSwdmiZ6Mo"
      },
      "outputs": [],
      "source": []
    },
    {
      "cell_type": "code",
      "execution_count": null,
      "metadata": {
        "id": "IQjxm4RlZ6Mo",
        "outputId": "c3a012eb-d919-440b-fa4b-6f057cc0ee8f"
      },
      "outputs": [
        {
          "name": "stdout",
          "output_type": "stream",
          "text": [
            "Accuracy: 0.9629831246597713\n",
            "Balanced Accuracy: 0.9606974753958066\n"
          ]
        },
        {
          "data": {
            "image/png": "[encoded data removed]",
            "text/plain": [
              "<Figure size 1200x1000 with 2 Axes>"
            ]
          },
          "metadata": {},
          "output_type": "display_data"
        }
      ],
      "source": [
        "# Training a RandomForest using only the top 20 correlated features\n",
        "X_train_top_features = X_train[selected_top_features]\n",
        "X_test_top_features = X_test[selected_top_features]\n",
        "\n",
        "classifier = RandomForestClassifier(random_state=42)\n",
        "classifier.fit(X_train_top_features, y_train_gender)\n",
        "y_pred_gender = classifier.predict(X_test_top_features)\n",
        "\n",
        "# Calculate metrics\n",
        "accuracy = accuracy_score(y_test_gender, y_pred_gender)\n",
        "balanced_accuracy = balanced_accuracy_score(y_test_gender, y_pred_gender)\n",
        "\n",
        "print(f'Accuracy: {accuracy}')\n",
        "print(f'Balanced Accuracy: {balanced_accuracy}')\n",
        "\n",
        "plt.figure(figsize=(12, 10))\n",
        "sns.heatmap(X_train[selected_top_features].corr(), annot=True, fmt=\".2f\", cmap='coolwarm')\n",
        "plt.title('Correlation Matrix of Top 20 Features')\n",
        "plt.show()"
      ]
    },
    {
      "cell_type": "markdown",
      "metadata": {
        "id": "aXaUAjSGZ6Mo"
      },
      "source": [
        "## Using test data to check the metrics"
      ]
    },
    {
      "cell_type": "code",
      "execution_count": null,
      "metadata": {
        "id": "j40hHGSCZ6Mo",
        "outputId": "e10f7720-7594-4ffc-8341-f1e365f3d735"
      },
      "outputs": [
        {
          "data": {
            "text/plain": [
              "((2115, 91), (2115, 91))"
            ]
          },
          "execution_count": 51,
          "metadata": {},
          "output_type": "execute_result"
        }
      ],
      "source": [
        "test_data_cleaned.shape, test_data.shape"
      ]
    },
    {
      "cell_type": "code",
      "execution_count": null,
      "metadata": {
        "id": "t8Zf4-61Z6Mo"
      },
      "outputs": [],
      "source": []
    },
    {
      "cell_type": "code",
      "execution_count": null,
      "metadata": {
        "id": "supRYAxYZ6Mo",
        "outputId": "3bf41570-b087-4af9-b75e-276f4c3850e0"
      },
      "outputs": [
        {
          "data": {
            "image/png": "[encoded data removed]",
            "text/plain": [
              "<Figure size 1000x500 with 1 Axes>"
            ]
          },
          "metadata": {},
          "output_type": "display_data"
        }
      ],
      "source": [
        "\n",
        "# Load your dataset\n",
        "data = test_data\n",
        "X = data.drop(['gender', 'participant_id'], axis=1)\n",
        "y_gender = data['gender']\n",
        "participants = data['participant_id']\n",
        "\n",
        "# Compute the correlation matrix with the target\n",
        "correlation_matrix = X.corrwith(y_gender).abs()\n",
        "sorted_features = correlation_matrix.sort_values(ascending=False).index\n",
        "\n",
        "# Define range of 'm' features\n",
        "m_features_list = list(range(5, 31, 5))\n",
        "\n",
        "# Initialize lists to store metrics for plotting\n",
        "accuracies = []\n",
        "balanced_accuracies = []\n",
        "intervals = []\n",
        "\n",
        "for m_features in m_features_list:\n",
        "    # Select the top 'm_features' based on correlation\n",
        "    top_features = sorted_features[:m_features]\n",
        "    X_selected = X[top_features]\n",
        "\n",
        "    # Split data into training and test sets\n",
        "    X_train, X_test, y_train_gender, y_test_gender, participants_train, participants_test = train_test_split(\n",
        "        X_selected, y_gender, participants, test_size=0.2, random_state=42, stratify=y_gender)\n",
        "\n",
        "    # Training the classifier\n",
        "    classifier = RandomForestClassifier(random_state=42)\n",
        "    classifier.fit(X_train, y_train_gender)\n",
        "    y_pred_gender = classifier.predict(X_test)\n",
        "\n",
        "    # Aggregating predictions at the participant level\n",
        "    participants_gender_results = pd.DataFrame({\n",
        "        'participant_id': participants_test,\n",
        "        'true_gender_label': y_test_gender,\n",
        "        'predicted_gender_label': y_pred_gender,\n",
        "        'gender': y_test_gender  # Include actual gender labels for EO calculation\n",
        "    })\n",
        "\n",
        "    # Group results by participant\n",
        "    participants_gender_grouped = participants_gender_results.groupby('participant_id').agg({\n",
        "        'true_gender_label': 'max',\n",
        "        'predicted_gender_label': 'mean',\n",
        "        'gender': 'first'\n",
        "    })\n",
        "    participants_gender_grouped['final_prediction'] = (participants_gender_grouped['predicted_gender_label'] >= 0.5).astype(int)\n",
        "\n",
        "    # Compute metrics\n",
        "    accuracy = accuracy_score(participants_gender_grouped['true_gender_label'], participants_gender_grouped['final_prediction'])\n",
        "    balanced_accuracy = balanced_accuracy_score(participants_gender_grouped['true_gender_label'], participants_gender_grouped['final_prediction'])\n",
        "\n",
        "    accuracies.append(accuracy)\n",
        "    balanced_accuracies.append(balanced_accuracy)\n",
        "    intervals.append(m_features)\n",
        "\n",
        "# Plotting the results\n",
        "plt.figure(figsize=(10, 5))\n",
        "plt.plot(intervals, accuracies, label='Overall Accuracy')\n",
        "plt.plot(intervals, balanced_accuracies, label='Balanced Accuracy')\n",
        "plt.xlabel('Number of Features Selected')\n",
        "plt.ylabel('Metric Value')\n",
        "plt.title('Performance vs. Number of Features')\n",
        "plt.legend()\n",
        "plt.grid(True)\n",
        "plt.show()\n"
      ]
    },
    {
      "cell_type": "code",
      "execution_count": null,
      "metadata": {
        "id": "4n2zi-4sZ6Mo",
        "outputId": "a3db0e63-d6ac-46ee-eba0-2cf2973daf5a"
      },
      "outputs": [
        {
          "data": {
            "text/plain": [
              "[1.0, 1.0, 1.0, 1.0, 1.0, 1.0]"
            ]
          },
          "execution_count": 53,
          "metadata": {},
          "output_type": "execute_result"
        }
      ],
      "source": [
        "accuracies"
      ]
    },
    {
      "cell_type": "code",
      "execution_count": null,
      "metadata": {
        "id": "iS_F9RVjZ6Mo",
        "outputId": "716e0e64-97fd-4986-939c-47bbad7c6768"
      },
      "outputs": [
        {
          "data": {
            "text/plain": [
              "[1.0, 1.0, 1.0, 1.0, 1.0, 1.0]"
            ]
          },
          "execution_count": 54,
          "metadata": {},
          "output_type": "execute_result"
        }
      ],
      "source": [
        "balanced_accuracies"
      ]
    },
    {
      "cell_type": "code",
      "execution_count": null,
      "metadata": {
        "id": "BcyBEPjNZ6Mp",
        "outputId": "4c25f52f-74ee-4bb7-e9fb-5e2094d401ca"
      },
      "outputs": [
        {
          "data": {
            "text/plain": [
              "['F0semitoneFrom27.5Hz_sma3nz_percentile20.0',\n",
              " 'F0semitoneFrom27.5Hz_sma3nz_percentile50.0',\n",
              " 'F0semitoneFrom27.5Hz_sma3nz_amean',\n",
              " 'F0semitoneFrom27.5Hz_sma3nz_percentile80.0',\n",
              " 'HNRdBACF_sma3nz_amean',\n",
              " 'slopeV0-500_sma3nz_amean',\n",
              " 'mfcc4V_sma3nz_amean',\n",
              " 'F2frequency_sma3nz_amean',\n",
              " 'mfcc4_sma3_amean',\n",
              " 'F1frequency_sma3nz_stddevNorm',\n",
              " 'F3frequency_sma3nz_amean',\n",
              " 'jitterLocal_sma3nz_stddevNorm',\n",
              " 'F1frequency_sma3nz_amean',\n",
              " 'F1bandwidth_sma3nz_amean',\n",
              " 'F2frequency_sma3nz_stddevNorm',\n",
              " 'F3frequency_sma3nz_stddevNorm',\n",
              " 'slopeUV0-500_sma3nz_amean',\n",
              " 'shimmerLocaldB_sma3nz_stddevNorm',\n",
              " 'mfcc3V_sma3nz_amean',\n",
              " 'mfcc1V_sma3nz_amean']"
            ]
          },
          "execution_count": 58,
          "metadata": {},
          "output_type": "execute_result"
        }
      ],
      "source": [
        "selected_top_features"
      ]
    },
    {
      "cell_type": "markdown",
      "metadata": {
        "id": "FTSDxIgiZ6Mp"
      },
      "source": [
        "# Mitigating bias via removing gender-dependent features."
      ]
    },
    {
      "cell_type": "code",
      "execution_count": null,
      "metadata": {
        "id": "_R7DvqzKZ6Mp"
      },
      "outputs": [],
      "source": [
        "## Training the model with cleaned data"
      ]
    },
    {
      "cell_type": "code",
      "execution_count": null,
      "metadata": {
        "id": "PuAajFVqZ6Mp"
      },
      "outputs": [],
      "source": [
        "data = data_cleaned\n",
        "data = data.drop(columns=selected_top_features)"
      ]
    },
    {
      "cell_type": "code",
      "execution_count": null,
      "metadata": {
        "id": "zcrhxrn9Z6Mp"
      },
      "outputs": [],
      "source": [
        "# Load your dataset (assuming it's already loaded as 'data')\n",
        "X_revised = data.drop(['gender', 'depression', 'participant_id'], axis=1)\n",
        "y_depression = data['depression']\n",
        "y_gender = data['gender']\n",
        "participants = data['participant_id']"
      ]
    },
    {
      "cell_type": "code",
      "execution_count": null,
      "metadata": {
        "id": "NWRpaOwmZ6Mp"
      },
      "outputs": [],
      "source": [
        "# Split the revised dataset for depression classification\n",
        "X_train, X_test, y_train, y_test, participants_train, participants_test = train_test_split(\n",
        "    X_revised, y_depression, participants, test_size=0.2, random_state=42, stratify=y_depression)\n",
        "# Training the classifier\n",
        "classifier = RandomForestClassifier(random_state=42)\n",
        "classifier.fit(X_train, y_train)\n",
        "y_pred = classifier.predict(X_test)\n"
      ]
    },
    {
      "cell_type": "code",
      "execution_count": null,
      "metadata": {
        "id": "ACe5XGM2Z6Mp"
      },
      "outputs": [],
      "source": [
        "# Aggregating predictions at the participant level\n",
        "results_df = pd.DataFrame({\n",
        "    'participant_id': participants_test,\n",
        "    'true_label': y_test,\n",
        "    'predicted_label': y_pred,\n",
        "    'gender': data.loc[participants_test.index, 'gender']\n",
        "})\n",
        "\n",
        "# Group results by participant\n",
        "aggregated_results = results_df.groupby('participant_id').agg({\n",
        "    'true_label': 'first',\n",
        "    'predicted_label': lambda x: (x.mean() >= 0.5).astype(int),\n",
        "    'gender': 'first'\n",
        "})"
      ]
    },
    {
      "cell_type": "code",
      "execution_count": null,
      "metadata": {
        "id": "vPckCOU-Z6Mp"
      },
      "outputs": [],
      "source": [
        "# Calculate overall metrics\n",
        "accuracy_A = accuracy_score(aggregated_results['true_label'], aggregated_results['predicted_label'])\n",
        "balanced_accuracy_BA = balanced_accuracy_score(aggregated_results['true_label'], aggregated_results['predicted_label'])\n",
        "\n",
        "# Separating data for EO calculation\n",
        "male_data = aggregated_results[aggregated_results['gender'] == 1]\n",
        "female_data = aggregated_results[aggregated_results['gender'] == 0]\n",
        "\n"
      ]
    },
    {
      "cell_type": "code",
      "execution_count": null,
      "metadata": {
        "id": "ydVjWFTQZ6Mp",
        "outputId": "de189548-02d8-4280-abb9-025c0ed857a9"
      },
      "outputs": [
        {
          "name": "stdout",
          "output_type": "stream",
          "text": [
            "Overall Accuracy (A): 0.8045977011494253\n",
            "Overall Balanced Accuracy (BA): 0.6458333333333334\n",
            "Female Accuracy: 0.8055555555555556\n",
            "Female Balanced Accuracy: 0.7083333333333334\n",
            "Male Accuracy: 0.803921568627451\n",
            "Male Balanced Accuracy: 0.5833333333333334\n",
            "Equality of Opportunity (EO): 0.75\n"
          ]
        }
      ],
      "source": [
        "# Calculate the metrics for female and male participants\n",
        "accuracy_female = accuracy_score(female_data['true_label'], female_data['predicted_label'])\n",
        "balanced_accuracy_female = balanced_accuracy_score(female_data['true_label'], female_data['predicted_label'])\n",
        "accuracy_male = accuracy_score(male_data['true_label'], male_data['predicted_label'])\n",
        "balanced_accuracy_male = balanced_accuracy_score(male_data['true_label'], male_data['predicted_label'])\n",
        "\n",
        "\n",
        "\n",
        "# Function to safely calculate TPR from a confusion matrix\n",
        "def calculate_tpr(cm, pos_label=1):\n",
        "    if cm.shape == (2, 2):  # Both classes (0 and 1) are present\n",
        "        return cm[pos_label, pos_label] / cm[pos_label, :].sum() if cm[pos_label, :].sum() else 0\n",
        "    elif cm.size == 1:  # Only one class is present in the predictions\n",
        "        if cm[0, 0] == pos_label:  # The existing class is the positive class\n",
        "            return 1  # All predictions are true positives (though trivial and not useful)\n",
        "        else:\n",
        "            return 0  # No true positives\n",
        "    return 0  # Default case to handle empty matrices or other unexpected cases\n",
        "\n",
        "cm_male = confusion_matrix(male_data['true_label'], male_data['predicted_label'], labels=[0, 1])\n",
        "cm_female = confusion_matrix(female_data['true_label'], female_data['predicted_label'], labels=[0, 1])\n",
        "\n",
        "# Using the safe calculation function for TPR\n",
        "tpr_male = calculate_tpr(cm_male, pos_label=1)\n",
        "tpr_female = calculate_tpr(cm_female, pos_label=1)\n",
        "EO = 1 - abs(tpr_male - tpr_female)\n",
        "\n",
        "# Print the metrics\n",
        "print(f'Overall Accuracy (A): {accuracy_A}')\n",
        "print(f'Overall Balanced Accuracy (BA): {balanced_accuracy_BA}')\n",
        "print(f'Female Accuracy: {accuracy_female}')\n",
        "print(f'Female Balanced Accuracy: {balanced_accuracy_female}')\n",
        "print(f'Male Accuracy: {accuracy_male}')\n",
        "print(f'Male Balanced Accuracy: {balanced_accuracy_male}')\n",
        "print(f'Equality of Opportunity (EO): {EO}')"
      ]
    },
    {
      "cell_type": "markdown",
      "metadata": {
        "id": "J8_cP25JZ6Mp"
      },
      "source": [
        "## Validation-set Results:\n",
        "\n",
        "| Metric                     | Value      |\n",
        "|----------------------------|------------|\n",
        "| Overall Accuracy (A)       | 0.8046     |\n",
        "| Overall Balanced Accuracy  | 0.6458     |\n",
        "| Female Accuracy            | 0.8056     |\n",
        "| Female Balanced Accuracy   | 0.7083     |\n",
        "| Male Accuracy              | 0.8039     |\n",
        "| Male Balanced Accuracy     | 0.5833     |\n",
        "| Equality of Opportunity (EO)| 0.75      |\n",
        ": 0.75\n"
      ]
    },
    {
      "cell_type": "code",
      "execution_count": null,
      "metadata": {
        "id": "mdYTv3HVZ6Mq"
      },
      "outputs": [],
      "source": []
    },
    {
      "cell_type": "code",
      "execution_count": null,
      "metadata": {
        "id": "XCmjR38SZ6Mq"
      },
      "outputs": [],
      "source": []
    },
    {
      "cell_type": "markdown",
      "metadata": {
        "id": "dDG3YKoPZ6Mq"
      },
      "source": [
        "## With test set"
      ]
    },
    {
      "cell_type": "code",
      "execution_count": null,
      "metadata": {
        "id": "SkE2I5rcZ6Mq",
        "outputId": "cb09566d-64e5-4f14-99e9-8e108ae857c9"
      },
      "outputs": [
        {
          "data": {
            "text/plain": [
              "(2115, 91)"
            ]
          },
          "execution_count": 65,
          "metadata": {},
          "output_type": "execute_result"
        }
      ],
      "source": [
        "\n",
        "test_data = test_data_cleaned\n",
        "# Remove these features from the dataset\n",
        "test_data.shape"
      ]
    },
    {
      "cell_type": "code",
      "execution_count": null,
      "metadata": {
        "id": "pONCK1KwZ6Mq"
      },
      "outputs": [],
      "source": []
    },
    {
      "cell_type": "code",
      "execution_count": null,
      "metadata": {
        "id": "-GvXT-_iZ6Mq"
      },
      "outputs": [],
      "source": [
        " test_data = test_data.drop(columns=selected_top_features)"
      ]
    },
    {
      "cell_type": "code",
      "execution_count": null,
      "metadata": {
        "id": "LxrQIN87Z6Mr"
      },
      "outputs": [],
      "source": [
        "# Prepare the feature matrix X_test and vectors for participant_id and gender\n",
        "X_test = test_data.drop(['participant_id', 'depression', 'gender'], axis=1)\n",
        "y_test = test_data['depression']\n",
        "participants_test = test_data['participant_id']\n",
        "genders_test = test_data['gender']\n"
      ]
    },
    {
      "cell_type": "code",
      "execution_count": null,
      "metadata": {
        "id": "yBftpzRuZ6Mr"
      },
      "outputs": [],
      "source": [
        "\n",
        "# Predict on the test data using predict_proba for more granular control\n",
        "y_pred_prob = classifier.predict_proba(X_test)[:, 1]\n"
      ]
    },
    {
      "cell_type": "code",
      "execution_count": null,
      "metadata": {
        "id": "kWwmQg_vZ6Mr"
      },
      "outputs": [],
      "source": [
        "\n",
        "# Aggregate the predictions to the participant level\n",
        "participants_results = pd.DataFrame({\n",
        "    'participant_id': participants_test,\n",
        "    'true_label': y_test,\n",
        "    'predicted_prob': y_pred_prob,\n",
        "    'gender': genders_test\n",
        "})\n",
        "participants_results_grouped = participants_results.groupby('participant_id').agg({\n",
        "    'true_label': 'first',  # Assumes that the 'true_label' is the same for all instances of a participant\n",
        "    'predicted_prob': 'mean',  # Average prediction probability per participant\n",
        "    'gender': 'first'  # Gender is the same for all instances of a participant\n",
        "})\n"
      ]
    },
    {
      "cell_type": "code",
      "execution_count": null,
      "metadata": {
        "id": "GGphG_2aZ6Mr"
      },
      "outputs": [],
      "source": [
        "\n",
        "# Threshold the predictions at 0.5 for classification\n",
        "participants_results_grouped['final_prediction'] = (participants_results_grouped['predicted_prob'] >= 0.5).astype(int)\n",
        "\n",
        "# Calculate the metrics\n",
        "accuracy_A = accuracy_score(participants_results_grouped['true_label'], participants_results_grouped['final_prediction'])\n",
        "balanced_accuracy_BA = balanced_accuracy_score(participants_results_grouped['true_label'], participants_results_grouped['final_prediction'])\n",
        "\n",
        "# Separate the data for female and male participants\n",
        "female_data = participants_results_grouped[participants_results_grouped['gender'] == 0]\n",
        "male_data = participants_results_grouped[participants_results_grouped['gender'] == 1]\n",
        "\n",
        "# Calculate the metrics for female and male participants\n",
        "accuracy_female = accuracy_score(female_data['true_label'], female_data['final_prediction'])\n",
        "balanced_accuracy_female = balanced_accuracy_score(female_data['true_label'], female_data['final_prediction'])\n",
        "accuracy_male = accuracy_score(male_data['true_label'], male_data['final_prediction'])\n",
        "balanced_accuracy_male = balanced_accuracy_score(male_data['true_label'], male_data['final_prediction'])\n",
        "\n",
        "# Calculate Equality of Opportunity (EO)\n",
        "conf_matrix_female = confusion_matrix(female_data['true_label'], female_data['final_prediction'])\n",
        "conf_matrix_male = confusion_matrix(male_data['true_label'], male_data['final_prediction'])\n",
        "tpr_female = conf_matrix_female[1, 1] / (conf_matrix_female[1, :].sum() if conf_matrix_female[1, :].sum() != 0 else 1)\n",
        "tpr_male = conf_matrix_male[1, 1] / (conf_matrix_male[1, :].sum() if conf_matrix_male[1, :].sum() != 0 else 1)\n",
        "EO = 1 - abs(tpr_male - tpr_female)\n"
      ]
    },
    {
      "cell_type": "code",
      "execution_count": null,
      "metadata": {
        "id": "G_7HhvL4Z6Mr"
      },
      "outputs": [],
      "source": []
    },
    {
      "cell_type": "code",
      "execution_count": null,
      "metadata": {
        "id": "MTETf__1Z6Mr",
        "outputId": "7d74e758-ff7e-48a4-b4a4-79fd5bbe91a5"
      },
      "outputs": [
        {
          "name": "stdout",
          "output_type": "stream",
          "text": [
            "Overall Accuracy (A): 0.7\n",
            "Overall Balanced Accuracy (BA): 0.5\n",
            "Female Accuracy: 0.375\n",
            "Female Balanced Accuracy: 0.5\n",
            "Male Accuracy: 0.9166666666666666\n",
            "Male Balanced Accuracy: 0.5\n",
            "Equality of Opportunity (EO): 1.0\n"
          ]
        }
      ],
      "source": [
        "\n",
        "# Print the metrics\n",
        "print(f'Overall Accuracy (A): {accuracy_A}')\n",
        "print(f'Overall Balanced Accuracy (BA): {balanced_accuracy_BA}')\n",
        "print(f'Female Accuracy: {accuracy_female}')\n",
        "print(f'Female Balanced Accuracy: {balanced_accuracy_female}')\n",
        "print(f'Male Accuracy: {accuracy_male}')\n",
        "print(f'Male Balanced Accuracy: {balanced_accuracy_male}')\n",
        "print(f'Equality of Opportunity (EO): {EO}')\n"
      ]
    },
    {
      "cell_type": "markdown",
      "metadata": {
        "id": "I_fonwo5Z6Mr"
      },
      "source": [
        "## Test-set Results:\n",
        "\n",
        "| Metric                     | Value      |\n",
        "|----------------------------|------------|\n",
        "| Overall Accuracy (A)       | 0.7        |\n",
        "| Overall Balanced Accuracy  | 0.5        |\n",
        "| Female Accuracy            | 0.375      |\n",
        "| Female Balanced Accuracy   | 0.5        |\n",
        "| Male Accuracy              | 0.9167     |\n",
        "| Male Balanced Accuracy     | 0.5        |\n",
        "| Equality of Opportunity (EO)| 1.0       |\n"
      ]
    },
    {
      "cell_type": "markdown",
      "metadata": {
        "id": "rqdfBowhZ6Mr"
      },
      "source": [
        "## Comparing validation and test set results:"
      ]
    },
    {
      "cell_type": "markdown",
      "metadata": {
        "id": "yo3mOO1RZ6Ms"
      },
      "source": [
        "| Metric                   | Validation Data | Test Data    |\n",
        "|--------------------------|-----------------|--------------|\n",
        "| Overall Accuracy (A)     | 0.8046          | 0.7000       |\n",
        "| Overall Balanced Accuracy| 0.6458          | 0.5000       |\n",
        "| Female Accuracy          | 0.8056          | 0.3750       |\n",
        "| Female Balanced Accuracy | 0.7083          | 0.5000       |\n",
        "| Male Accuracy            | 0.8039          | 0.9167       |\n",
        "| Male Balanced Accuracy   | 0.5833          | 0.5000       |\n",
        "| Equality of Opportunity (EO)| 0.75          | 1.0          |\n"
      ]
    },
    {
      "cell_type": "code",
      "execution_count": null,
      "metadata": {
        "id": "LUL-MnieZ6Ms"
      },
      "outputs": [],
      "source": []
    }
  ],
  "metadata": {
    "colab": {
      "provenance": []
    },
    "kernelspec": {
      "display_name": "Python 3 (ipykernel)",
      "language": "python",
      "name": "python3"
    },
    "language_info": {
      "codemirror_mode": {
        "name": "ipython",
        "version": 3
      },
      "file_extension": ".py",
      "mimetype": "text/x-python",
      "name": "python",
      "nbconvert_exporter": "python",
      "pygments_lexer": "ipython3",
      "version": "3.11.5"
    }
  },
  "nbformat": 4,
  "nbformat_minor": 0
}